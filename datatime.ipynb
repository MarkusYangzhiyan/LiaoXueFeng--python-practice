{
 "cells": [
  {
   "cell_type": "code",
   "execution_count": 2,
   "id": "ff6a0949-dee7-4d78-982b-784bd81b9390",
   "metadata": {},
   "outputs": [],
   "source": [
    "import datetime"
   ]
  },
  {
   "cell_type": "code",
   "execution_count": 4,
   "id": "b4d75b7c-1fc3-4093-a79a-4f2fa52a9668",
   "metadata": {},
   "outputs": [],
   "source": [
    "from datetime import datetime"
   ]
  },
  {
   "cell_type": "code",
   "execution_count": 10,
   "id": "27d32935-d250-428e-9977-8ad1600eeb14",
   "metadata": {},
   "outputs": [
    {
     "data": {
      "text/plain": [
       "datetime.datetime(2025, 3, 27, 9, 38, 21, 907196)"
      ]
     },
     "execution_count": 10,
     "metadata": {},
     "output_type": "execute_result"
    }
   ],
   "source": [
    "now = datetime.now()\n",
    "now"
   ]
  },
  {
   "cell_type": "code",
   "execution_count": 11,
   "id": "b2a854cd-8a55-4d4b-9a7d-df47384c674d",
   "metadata": {},
   "outputs": [
    {
     "name": "stdout",
     "output_type": "stream",
     "text": [
      "2025-03-27 09:38:21.907196\n"
     ]
    }
   ],
   "source": [
    "print(now)"
   ]
  },
  {
   "cell_type": "code",
   "execution_count": 12,
   "id": "93152040-646e-48d6-9e9f-b55b3961c97d",
   "metadata": {},
   "outputs": [
    {
     "data": {
      "text/plain": [
       "datetime.datetime"
      ]
     },
     "execution_count": 12,
     "metadata": {},
     "output_type": "execute_result"
    }
   ],
   "source": [
    "type(now)"
   ]
  },
  {
   "cell_type": "code",
   "execution_count": 1,
   "id": "0eaf605d-2e59-4287-9c91-12bb671fa11f",
   "metadata": {},
   "outputs": [],
   "source": [
    "import datetime"
   ]
  },
  {
   "cell_type": "code",
   "execution_count": 2,
   "id": "0bb4a744-9e31-4568-97db-e2fdf8be39de",
   "metadata": {},
   "outputs": [],
   "source": [
    "now = datetime.datetime.now()"
   ]
  },
  {
   "cell_type": "code",
   "execution_count": 3,
   "id": "49180cab-b371-470f-b65e-dc3f788a86f9",
   "metadata": {},
   "outputs": [
    {
     "name": "stdout",
     "output_type": "stream",
     "text": [
      "2025-03-27 09:42:14.644154\n"
     ]
    }
   ],
   "source": [
    "print(now)"
   ]
  },
  {
   "cell_type": "code",
   "execution_count": 4,
   "id": "70bc64c8-4836-435a-96fd-7b71f5a77ba4",
   "metadata": {},
   "outputs": [
    {
     "data": {
      "text/plain": [
       "datetime.datetime"
      ]
     },
     "execution_count": 4,
     "metadata": {},
     "output_type": "execute_result"
    }
   ],
   "source": [
    "type(now)"
   ]
  },
  {
   "cell_type": "code",
   "execution_count": 6,
   "id": "f97eaf8a-ff90-4168-862b-1c43dbddbd45",
   "metadata": {},
   "outputs": [],
   "source": [
    "dt = datetime.datetime(1995,9,7,12,20)"
   ]
  },
  {
   "cell_type": "code",
   "execution_count": 7,
   "id": "0acf0c4a-5375-444f-a846-7e98513da08a",
   "metadata": {},
   "outputs": [
    {
     "data": {
      "text/plain": [
       "datetime.datetime(1995, 9, 7, 12, 20)"
      ]
     },
     "execution_count": 7,
     "metadata": {},
     "output_type": "execute_result"
    }
   ],
   "source": [
    "dt"
   ]
  },
  {
   "cell_type": "code",
   "execution_count": 8,
   "id": "e1cb38b5-33ea-40ae-ad29-4d4f52c1a973",
   "metadata": {},
   "outputs": [
    {
     "name": "stdout",
     "output_type": "stream",
     "text": [
      "1995-09-07 12:20:00\n"
     ]
    }
   ],
   "source": [
    "print(dt)"
   ]
  },
  {
   "cell_type": "code",
   "execution_count": 10,
   "id": "167347eb-18c7-4cf1-8681-83f76074a2f2",
   "metadata": {},
   "outputs": [],
   "source": [
    "from datetime import datetime"
   ]
  },
  {
   "cell_type": "code",
   "execution_count": 11,
   "id": "dd58e08f-58eb-45d7-9d41-e9d4ca1be3d3",
   "metadata": {},
   "outputs": [
    {
     "data": {
      "text/plain": [
       "datetime.datetime(1995, 9, 7, 12, 20)"
      ]
     },
     "execution_count": 11,
     "metadata": {},
     "output_type": "execute_result"
    }
   ],
   "source": [
    "dt "
   ]
  },
  {
   "cell_type": "code",
   "execution_count": 13,
   "id": "da057de3-44b2-441b-b244-6b6ae4d582a8",
   "metadata": {},
   "outputs": [
    {
     "data": {
      "text/plain": [
       "810447600.0"
      ]
     },
     "execution_count": 13,
     "metadata": {},
     "output_type": "execute_result"
    }
   ],
   "source": [
    "dt.timestamp()"
   ]
  },
  {
   "cell_type": "code",
   "execution_count": 15,
   "id": "fe3ac85a-ec50-45ef-9822-2128d6fca192",
   "metadata": {},
   "outputs": [],
   "source": [
    "timestamp  = dt.timestamp()"
   ]
  },
  {
   "cell_type": "code",
   "execution_count": 16,
   "id": "b510eb73-8d22-4be0-8045-ad8a956fe7ef",
   "metadata": {},
   "outputs": [
    {
     "data": {
      "text/plain": [
       "810447600.0"
      ]
     },
     "execution_count": 16,
     "metadata": {},
     "output_type": "execute_result"
    }
   ],
   "source": [
    "timestamp"
   ]
  },
  {
   "cell_type": "code",
   "execution_count": 19,
   "id": "3ba8b934-9f42-44fa-ae26-1ea97921c35c",
   "metadata": {},
   "outputs": [
    {
     "data": {
      "text/plain": [
       "datetime.datetime(1995, 9, 7, 12, 20)"
      ]
     },
     "execution_count": 19,
     "metadata": {},
     "output_type": "execute_result"
    }
   ],
   "source": [
    "dt"
   ]
  },
  {
   "cell_type": "code",
   "execution_count": 20,
   "id": "0e88f2d7-caaa-468a-9ce8-4024087ab105",
   "metadata": {},
   "outputs": [
    {
     "data": {
      "text/plain": [
       "810447600.0"
      ]
     },
     "execution_count": 20,
     "metadata": {},
     "output_type": "execute_result"
    }
   ],
   "source": [
    "dt.timestamp()"
   ]
  },
  {
   "cell_type": "code",
   "execution_count": 21,
   "id": "e8537d4a-a73e-446b-8f4a-4b7e77870fd2",
   "metadata": {},
   "outputs": [],
   "source": [
    "t = dt.timestamp()"
   ]
  },
  {
   "cell_type": "code",
   "execution_count": 22,
   "id": "020c8ba4-e6cb-4fb0-8af9-391bfde4b42b",
   "metadata": {},
   "outputs": [
    {
     "data": {
      "text/plain": [
       "810447600.0"
      ]
     },
     "execution_count": 22,
     "metadata": {},
     "output_type": "execute_result"
    }
   ],
   "source": [
    "t"
   ]
  },
  {
   "cell_type": "code",
   "execution_count": 23,
   "id": "63faa8a1-ba00-4177-b2a6-be61090e1b98",
   "metadata": {},
   "outputs": [
    {
     "data": {
      "text/plain": [
       "datetime.datetime(1995, 9, 7, 12, 20)"
      ]
     },
     "execution_count": 23,
     "metadata": {},
     "output_type": "execute_result"
    }
   ],
   "source": [
    "datetime.fromtimestamp(t)"
   ]
  },
  {
   "cell_type": "code",
   "execution_count": 24,
   "id": "77c8380f-30bc-4340-a47d-820ad18bf68e",
   "metadata": {},
   "outputs": [
    {
     "name": "stderr",
     "output_type": "stream",
     "text": [
      "C:\\Users\\User\\AppData\\Local\\Temp\\ipykernel_9756\\810228847.py:1: DeprecationWarning: datetime.datetime.utcfromtimestamp() is deprecated and scheduled for removal in a future version. Use timezone-aware objects to represent datetimes in UTC: datetime.datetime.fromtimestamp(timestamp, datetime.UTC).\n",
      "  datetime.utcfromtimestamp(t)\n"
     ]
    },
    {
     "data": {
      "text/plain": [
       "datetime.datetime(1995, 9, 7, 4, 20)"
      ]
     },
     "execution_count": 24,
     "metadata": {},
     "output_type": "execute_result"
    }
   ],
   "source": [
    "datetime.utcfromtimestamp(t)"
   ]
  },
  {
   "cell_type": "code",
   "execution_count": 32,
   "id": "74aeb177-918d-44ab-9b62-48744221df44",
   "metadata": {},
   "outputs": [],
   "source": [
    "now = datetime.strptime('2025-3-27 9:59:30','%Y-%m-%d %H:%M:%S')"
   ]
  },
  {
   "cell_type": "code",
   "execution_count": 29,
   "id": "d33e6b2a-e6e6-4190-b745-e44cdeef14cf",
   "metadata": {},
   "outputs": [
    {
     "data": {
      "text/plain": [
       "datetime.datetime(2025, 3, 27, 9, 59, 30)"
      ]
     },
     "execution_count": 29,
     "metadata": {},
     "output_type": "execute_result"
    }
   ],
   "source": [
    "now"
   ]
  },
  {
   "cell_type": "code",
   "execution_count": 30,
   "id": "07cd1d56-938a-4c17-a82a-450770a1b546",
   "metadata": {},
   "outputs": [
    {
     "name": "stdout",
     "output_type": "stream",
     "text": [
      "2025-03-27 09:59:30\n"
     ]
    }
   ],
   "source": [
    "print(now)"
   ]
  },
  {
   "cell_type": "code",
   "execution_count": 33,
   "id": "261eda4f-b227-4bd4-a380-6a38072ac675",
   "metadata": {},
   "outputs": [],
   "source": [
    "now = datetime.now()"
   ]
  },
  {
   "cell_type": "code",
   "execution_count": 34,
   "id": "85b577f5-d1d2-465d-a163-aaa5b564901e",
   "metadata": {},
   "outputs": [
    {
     "name": "stdout",
     "output_type": "stream",
     "text": [
      "2025-03-27 10:02:09.074643\n"
     ]
    }
   ],
   "source": [
    "print(now)"
   ]
  },
  {
   "cell_type": "code",
   "execution_count": 37,
   "id": "086d5c35-5abc-4036-a6e8-bf140f3617b0",
   "metadata": {},
   "outputs": [
    {
     "data": {
      "text/plain": [
       "'Thu Mar 2025 27 10:02'"
      ]
     },
     "execution_count": 37,
     "metadata": {},
     "output_type": "execute_result"
    }
   ],
   "source": [
    "now.strftime('%a %b %Y %d %H:%M')"
   ]
  },
  {
   "cell_type": "code",
   "execution_count": 38,
   "id": "ed617d4a-d377-4274-8279-cece33532c8d",
   "metadata": {},
   "outputs": [],
   "source": [
    "from datetime import timedelta"
   ]
  },
  {
   "cell_type": "code",
   "execution_count": 44,
   "id": "5c6857cd-af5e-475e-b71d-f6cc666c3f4b",
   "metadata": {},
   "outputs": [
    {
     "data": {
      "text/plain": [
       "datetime.datetime(2025, 3, 27, 10, 8, 25, 833067)"
      ]
     },
     "execution_count": 44,
     "metadata": {},
     "output_type": "execute_result"
    }
   ],
   "source": [
    "now = datetime.now()\n",
    "now"
   ]
  },
  {
   "cell_type": "code",
   "execution_count": 47,
   "id": "b7dcedd8-b042-4c6f-9d18-cf5e3d0bfc5f",
   "metadata": {},
   "outputs": [
    {
     "data": {
      "text/plain": [
       "datetime.datetime(2025, 3, 27, 20, 8, 25, 833067)"
      ]
     },
     "execution_count": 47,
     "metadata": {},
     "output_type": "execute_result"
    }
   ],
   "source": [
    "now + timedelta(hours = 10)"
   ]
  },
  {
   "cell_type": "code",
   "execution_count": 48,
   "id": "2af391de-bc94-4eef-992b-c8f68e61a406",
   "metadata": {},
   "outputs": [
    {
     "data": {
      "text/plain": [
       "datetime.datetime(2025, 3, 26, 10, 8, 25, 833067)"
      ]
     },
     "execution_count": 48,
     "metadata": {},
     "output_type": "execute_result"
    }
   ],
   "source": [
    "now - timedelta(days=1)"
   ]
  },
  {
   "cell_type": "code",
   "execution_count": 49,
   "id": "c538e365-94b5-41b9-9f63-dfc27a6db6fc",
   "metadata": {},
   "outputs": [
    {
     "data": {
      "text/plain": [
       "datetime.datetime(2025, 3, 29, 15, 8, 25, 833067)"
      ]
     },
     "execution_count": 49,
     "metadata": {},
     "output_type": "execute_result"
    }
   ],
   "source": [
    "now + timedelta(hours = 5, days= 2)"
   ]
  },
  {
   "cell_type": "code",
   "execution_count": 51,
   "id": "05781968-a237-4042-adbe-bb7b56587be3",
   "metadata": {},
   "outputs": [],
   "source": [
    "from datetime import timezone"
   ]
  },
  {
   "cell_type": "code",
   "execution_count": 52,
   "id": "49a412ca-df15-4c5a-8f02-61eb2ed7d9ae",
   "metadata": {},
   "outputs": [],
   "source": [
    "tz_utc_8 = timezone(timedelta(hours = 8))"
   ]
  },
  {
   "cell_type": "code",
   "execution_count": 53,
   "id": "a0f7f0e0-cac8-444e-945d-6124e0a5daf6",
   "metadata": {},
   "outputs": [
    {
     "data": {
      "text/plain": [
       "datetime.timezone(datetime.timedelta(seconds=28800))"
      ]
     },
     "execution_count": 53,
     "metadata": {},
     "output_type": "execute_result"
    }
   ],
   "source": [
    "tz_utc_8"
   ]
  },
  {
   "cell_type": "code",
   "execution_count": 54,
   "id": "7f79b964-557e-4129-8e62-d5c722aff82c",
   "metadata": {},
   "outputs": [],
   "source": [
    "now = datetime.now()"
   ]
  },
  {
   "cell_type": "code",
   "execution_count": 55,
   "id": "5cd69da4-47b4-40a8-99ee-8b9f6e4600cc",
   "metadata": {},
   "outputs": [
    {
     "data": {
      "text/plain": [
       "datetime.datetime(2025, 3, 27, 10, 47, 13, 860424)"
      ]
     },
     "execution_count": 55,
     "metadata": {},
     "output_type": "execute_result"
    }
   ],
   "source": [
    "now"
   ]
  },
  {
   "cell_type": "code",
   "execution_count": 56,
   "id": "7c7ce465-0548-4ccc-88f0-ab67c000185a",
   "metadata": {},
   "outputs": [],
   "source": [
    "dt = now.replace(tzinfo=tz_utc_8)"
   ]
  },
  {
   "cell_type": "code",
   "execution_count": 57,
   "id": "175195fb-4971-4e74-982c-1939e80fbc51",
   "metadata": {},
   "outputs": [
    {
     "data": {
      "text/plain": [
       "datetime.datetime(2025, 3, 27, 10, 47, 13, 860424, tzinfo=datetime.timezone(datetime.timedelta(seconds=28800)))"
      ]
     },
     "execution_count": 57,
     "metadata": {},
     "output_type": "execute_result"
    }
   ],
   "source": [
    "dt"
   ]
  },
  {
   "cell_type": "code",
   "execution_count": 58,
   "id": "675b309f-e332-4751-b086-4a2f17f93808",
   "metadata": {},
   "outputs": [],
   "source": [
    "tz_utc_8 = timezone(timedelta(hours = 8))"
   ]
  },
  {
   "cell_type": "code",
   "execution_count": 59,
   "id": "fac2c47f-ab50-46a4-8e44-286fba345b74",
   "metadata": {},
   "outputs": [],
   "source": [
    "now = datetime.now()"
   ]
  },
  {
   "cell_type": "code",
   "execution_count": 60,
   "id": "c58a700e-0ccd-4495-ade3-210ef46bbcab",
   "metadata": {},
   "outputs": [],
   "source": [
    "dt = now.replace(tzinfo = tz_utc_8)"
   ]
  },
  {
   "cell_type": "code",
   "execution_count": 62,
   "id": "aa51a07b-6f8e-4c9f-bf40-7f30f4e59fe2",
   "metadata": {},
   "outputs": [
    {
     "data": {
      "text/plain": [
       "datetime.datetime(2025, 3, 27, 10, 49, 11, 354206, tzinfo=datetime.timezone(datetime.timedelta(seconds=28800)))"
      ]
     },
     "execution_count": 62,
     "metadata": {},
     "output_type": "execute_result"
    }
   ],
   "source": [
    "dt"
   ]
  },
  {
   "cell_type": "code",
   "execution_count": 63,
   "id": "34235341-7d6c-424b-9210-f76af664fa79",
   "metadata": {},
   "outputs": [
    {
     "name": "stderr",
     "output_type": "stream",
     "text": [
      "C:\\Users\\User\\AppData\\Local\\Temp\\ipykernel_9756\\3310588976.py:1: DeprecationWarning: datetime.datetime.utcnow() is deprecated and scheduled for removal in a future version. Use timezone-aware objects to represent datetimes in UTC: datetime.datetime.now(datetime.UTC).\n",
      "  utc_dt = datetime.utcnow().replace(tzinfo = timezone.utc)\n"
     ]
    }
   ],
   "source": [
    "utc_dt = datetime.utcnow().replace(tzinfo = timezone.utc)"
   ]
  },
  {
   "cell_type": "code",
   "execution_count": 64,
   "id": "5fb81260-8880-432a-8ee9-c3ce731d97b5",
   "metadata": {},
   "outputs": [
    {
     "name": "stdout",
     "output_type": "stream",
     "text": [
      "2025-03-27 02:50:37.646994+00:00\n"
     ]
    }
   ],
   "source": [
    "print(utc_dt)"
   ]
  },
  {
   "cell_type": "code",
   "execution_count": 65,
   "id": "6b11e24f-fe5b-42e8-b06d-1d10ce06897d",
   "metadata": {},
   "outputs": [],
   "source": [
    "bj_dt = utc_dt.astimezone(timezone(timedelta(hours = 8)))"
   ]
  },
  {
   "cell_type": "code",
   "execution_count": 66,
   "id": "8fef0801-415f-47d4-8f07-05b4c06b021c",
   "metadata": {},
   "outputs": [
    {
     "data": {
      "text/plain": [
       "datetime.datetime(2025, 3, 27, 10, 50, 37, 646994, tzinfo=datetime.timezone(datetime.timedelta(seconds=28800)))"
      ]
     },
     "execution_count": 66,
     "metadata": {},
     "output_type": "execute_result"
    }
   ],
   "source": [
    "bj_dt"
   ]
  },
  {
   "cell_type": "code",
   "execution_count": 67,
   "id": "79ef5c5b-141b-49a4-ba4a-f61fd880b34e",
   "metadata": {},
   "outputs": [],
   "source": [
    "tokyo_dt = utc_dt.astimezone(timezone(timedelta(hours= 9)))"
   ]
  },
  {
   "cell_type": "code",
   "execution_count": 68,
   "id": "f0b9551c-c4e4-47c1-8b8b-2950269ed08c",
   "metadata": {},
   "outputs": [
    {
     "data": {
      "text/plain": [
       "datetime.datetime(2025, 3, 27, 11, 50, 37, 646994, tzinfo=datetime.timezone(datetime.timedelta(seconds=32400)))"
      ]
     },
     "execution_count": 68,
     "metadata": {},
     "output_type": "execute_result"
    }
   ],
   "source": [
    "tokyo_dt"
   ]
  },
  {
   "cell_type": "code",
   "execution_count": 73,
   "id": "60f2a2fe-3113-456e-bf39-63e34e707f06",
   "metadata": {},
   "outputs": [],
   "source": [
    "tokyo_dt_2 = bj_dt.astimezone(timezone(timedelta(hours=9)))"
   ]
  },
  {
   "cell_type": "code",
   "execution_count": 74,
   "id": "e6cc7e1d-c54f-4d92-8c1b-11f8f7442a01",
   "metadata": {},
   "outputs": [
    {
     "data": {
      "text/plain": [
       "datetime.datetime(2025, 3, 27, 11, 50, 37, 646994, tzinfo=datetime.timezone(datetime.timedelta(seconds=32400)))"
      ]
     },
     "execution_count": 74,
     "metadata": {},
     "output_type": "execute_result"
    }
   ],
   "source": [
    "tokyo_dt_2"
   ]
  },
  {
   "cell_type": "code",
   "execution_count": 75,
   "id": "d6986654-b48d-45a0-9dc9-3a85b52f3c66",
   "metadata": {},
   "outputs": [
    {
     "name": "stdout",
     "output_type": "stream",
     "text": [
      "2025-03-27 11:50:37.646994+09:00\n"
     ]
    }
   ],
   "source": [
    "print(tokyo_dt)"
   ]
  },
  {
   "cell_type": "code",
   "execution_count": 76,
   "id": "6f765bb3-2f52-40a1-9abd-e60dcb77c16e",
   "metadata": {},
   "outputs": [
    {
     "name": "stdout",
     "output_type": "stream",
     "text": [
      "2025-03-27 11:50:37.646994+09:00\n"
     ]
    }
   ],
   "source": [
    "print(tokyo_dt_2)"
   ]
  },
  {
   "cell_type": "code",
   "execution_count": 77,
   "id": "ea739146-fe45-4f97-bcaa-97bee57218f4",
   "metadata": {},
   "outputs": [
    {
     "name": "stdout",
     "output_type": "stream",
     "text": [
      "2025-03-27 10:50:37.646994+08:00\n"
     ]
    }
   ],
   "source": [
    "print(bj_dt)"
   ]
  },
  {
   "cell_type": "code",
   "execution_count": 78,
   "id": "4feb50ec-7888-40f3-9961-63bd093e4909",
   "metadata": {},
   "outputs": [
    {
     "name": "stdout",
     "output_type": "stream",
     "text": [
      "2025-03-27 02:50:37.646994+00:00\n"
     ]
    }
   ],
   "source": [
    "print(utc_dt)"
   ]
  },
  {
   "cell_type": "code",
   "execution_count": 80,
   "id": "f5b587da-5e00-4fc3-90e7-d80c6bbb1bfc",
   "metadata": {},
   "outputs": [],
   "source": [
    "dt_str = '2015-1-21 9:01:30'"
   ]
  },
  {
   "cell_type": "code",
   "execution_count": 81,
   "id": "aa18c17e-df7e-4fc4-a9a5-d5f2401b9037",
   "metadata": {},
   "outputs": [],
   "source": [
    "tz_5 = 'UTC+5:00'"
   ]
  },
  {
   "cell_type": "code",
   "execution_count": 27,
   "id": "c04aa958-76e4-44dd-bc31-e9fa398813c6",
   "metadata": {},
   "outputs": [],
   "source": [
    "import re\n",
    "from datetime import datetime, timezone, timedelta\n",
    "\n",
    "def to_timestamp(dt_str, tz_str):\n",
    "    # 解析日期时间为datetime对象\n",
    "    dt = datetime.strptime(dt_str, \"%Y-%m-%d %H:%M:%S\")\n",
    "    \n",
    "    # 使用正则表达式解析时区字符串\n",
    "    tz_pattern = r'^UTC([+-])(\\d{1,2}):(\\d{2})$'\n",
    "    match = re.match(tz_pattern, tz_str)\n",
    "    if not match:\n",
    "        raise ValueError(f\"Invalid timezone format: {tz_str}\")\n",
    "    \n",
    "    # 提取符号、小时、分钟\n",
    "    sign, hours, minutes = match.groups()\n",
    "    offset = int(hours) * 3600 + int(minutes) * 60\n",
    "    \n",
    "    # 处理符号（正负偏移）\n",
    "    if sign == '-':\n",
    "        offset = -offset\n",
    "    \n",
    "    # 创建时区对象\n",
    "    tz = timezone(timedelta(seconds=offset))\n",
    "    \n",
    "    # 将原始datetime对象附加时区信息\n",
    "    dt_aware = dt.replace(tzinfo=tz)\n",
    "    \n",
    "    # 返回时间戳\n",
    "    return dt_aware.timestamp()\n",
    "\n",
    "# 示例测试\n",
    "dt_str = \"2015-6-1 08:10:30\"\n",
    "tz_str = \"UTC+7:00\"\n",
    "timestamp = to_timestamp(dt_str, tz_str)\n"
   ]
  },
  {
   "cell_type": "code",
   "execution_count": 28,
   "id": "d3f6d795-1e13-4085-a6c6-8ba391bdac33",
   "metadata": {},
   "outputs": [
    {
     "data": {
      "text/plain": [
       "1433121030.0"
      ]
     },
     "execution_count": 28,
     "metadata": {},
     "output_type": "execute_result"
    }
   ],
   "source": [
    "timestamp"
   ]
  },
  {
   "cell_type": "code",
   "execution_count": 25,
   "id": "2c1dd867-8b2f-4968-9617-88304e61e742",
   "metadata": {},
   "outputs": [
    {
     "name": "stdout",
     "output_type": "stream",
     "text": [
      "ok\n"
     ]
    }
   ],
   "source": [
    "def to_timestamp(dt_str,tz_str):\n",
    "    #解析时间字符串为datetime对象\n",
    "    dt = datetime.strptime(dt_str, '%Y-%m-%d %H:%M:%S')\n",
    "\n",
    "    #解析时区偏移\n",
    "    tz_re =  re.match(r\"UTC([+-])(\\d{1,2}):(\\d{2})\",tz_str)\n",
    "    if not tz_re:\n",
    "        raise TimeoutError('Invalid time string')\n",
    "\n",
    "    sign,hours,minutes = tz_re.groups()\n",
    "    offset = int(hours) * 3600 + int(minutes) * 60\n",
    "\n",
    "    if sign == '-':\n",
    "        offset = -offset\n",
    "\n",
    "    \n",
    "\n",
    "    tz = timezone(timedelta(seconds = offset))\n",
    "    dt_aware = dt.replace(tzinfo = tz)\n",
    "    dt_ts = dt_aware.timestamp()\n",
    "    return dt_ts\n",
    "    \n",
    "    # 测试:\n",
    "t1 = to_timestamp('2015-6-1 08:10:30', 'UTC+7:00')\n",
    "assert t1 == 1433121030.0, t1\n",
    "\n",
    "t2 = to_timestamp('2015-5-31 16:10:30', 'UTC-09:00')\n",
    "assert t2 == 1433121030.0, t2\n",
    "\n",
    "print('ok')"
   ]
  },
  {
   "cell_type": "code",
   "execution_count": 26,
   "id": "01233fe1-7282-4f7c-ac29-88a1baeaa766",
   "metadata": {},
   "outputs": [
    {
     "name": "stdout",
     "output_type": "stream",
     "text": [
      "1433121030.0 1433121030.0\n"
     ]
    }
   ],
   "source": [
    "print(t1,t2)"
   ]
  },
  {
   "cell_type": "code",
   "execution_count": 16,
   "id": "7a14b93c-e4a9-464a-bfb4-8adca69b514e",
   "metadata": {},
   "outputs": [],
   "source": [
    "now = datetime.now()"
   ]
  },
  {
   "cell_type": "code",
   "execution_count": 17,
   "id": "72e266ef-c597-4af3-8281-7b35b5997cde",
   "metadata": {},
   "outputs": [
    {
     "name": "stdout",
     "output_type": "stream",
     "text": [
      "2025-03-27 14:34:05.705637\n"
     ]
    }
   ],
   "source": [
    "print(now)"
   ]
  },
  {
   "cell_type": "code",
   "execution_count": 18,
   "id": "7544b9f4-f510-4541-bcfc-bf51c005050f",
   "metadata": {},
   "outputs": [],
   "source": [
    "tz_utc_5 = timezone(timedelta(hours=5))"
   ]
  },
  {
   "cell_type": "code",
   "execution_count": 19,
   "id": "d312acb2-8b4e-4229-bd16-b05e28899cc6",
   "metadata": {},
   "outputs": [
    {
     "name": "stdout",
     "output_type": "stream",
     "text": [
      "UTC+05:00\n"
     ]
    }
   ],
   "source": [
    "print(tz_utc_5)"
   ]
  },
  {
   "cell_type": "code",
   "execution_count": 20,
   "id": "d274508e-6482-4933-9565-a8790ccc3b52",
   "metadata": {},
   "outputs": [],
   "source": [
    "dt = now.replace(tzinfo = tz_utc_5)"
   ]
  },
  {
   "cell_type": "code",
   "execution_count": 21,
   "id": "4c2496b9-11c0-4547-a6ed-8f9660264f2d",
   "metadata": {},
   "outputs": [
    {
     "name": "stdout",
     "output_type": "stream",
     "text": [
      "2025-03-27 14:34:05.705637+05:00\n"
     ]
    }
   ],
   "source": [
    "print(dt)"
   ]
  },
  {
   "cell_type": "code",
   "execution_count": null,
   "id": "fd0771c0-1562-4682-8294-d57dd26dfcbc",
   "metadata": {},
   "outputs": [],
   "source": []
  },
  {
   "cell_type": "code",
   "execution_count": null,
   "id": "4318c0bc-52db-40ce-95b3-fd0a60bf2eaa",
   "metadata": {},
   "outputs": [],
   "source": []
  },
  {
   "cell_type": "code",
   "execution_count": null,
   "id": "bca898bf-18ea-41f1-b8d7-0526a622c7f7",
   "metadata": {},
   "outputs": [],
   "source": []
  },
  {
   "cell_type": "code",
   "execution_count": 29,
   "id": "2e3c21fb-0762-47c0-b602-201249700c0f",
   "metadata": {},
   "outputs": [],
   "source": [
    "dt_str = \"2015-6-1 08:10:30\"\n",
    "tz_str = \"UTC+7:00\""
   ]
  },
  {
   "cell_type": "code",
   "execution_count": 30,
   "id": "a528266b-28b5-4ad5-b124-2c1f54b3c358",
   "metadata": {},
   "outputs": [],
   "source": [
    "def to_timestamp(dt_str,tz_str):\n",
    "    dt = datetime.strptime(dt_str,'%Y-%m-%d %H:%M:%S')\n",
    "\n",
    "    tz_re = re.match(r\"UTC([+-])(\\d{1,2}):(\\d{2})\",tz_str)\n",
    "    if not tz_re:\n",
    "        raise ValueError('Invalid time string')\n",
    "\n",
    "    sign,hours,minutes = tz_re.groups()\n",
    "    offset = int(hours) * 3600 + int(minutes) * 60\n",
    "    if sign == '-':\n",
    "        offset = -offset\n",
    "    tz = timezone(timedelta(seconds=offset))\n",
    "    dt_aware = dt.replace(tzinfo = tz)\n",
    "    dt_ts = dt_aware.timestamp()\n",
    "    return dt_ts\n",
    "        "
   ]
  },
  {
   "cell_type": "code",
   "execution_count": 31,
   "id": "ebfe0ab9-8aac-4a03-8f79-756e66d3af92",
   "metadata": {},
   "outputs": [
    {
     "data": {
      "text/plain": [
       "1433121030.0"
      ]
     },
     "execution_count": 31,
     "metadata": {},
     "output_type": "execute_result"
    }
   ],
   "source": [
    "to_timestamp(dt_str,tz_str)"
   ]
  },
  {
   "cell_type": "code",
   "execution_count": 32,
   "id": "ab39fe53-fff1-4a68-ba25-bb8cab817d7a",
   "metadata": {},
   "outputs": [
    {
     "data": {
      "text/plain": [
       "1433121030.0"
      ]
     },
     "execution_count": 32,
     "metadata": {},
     "output_type": "execute_result"
    }
   ],
   "source": [
    "to_timestamp('2015-5-31 16:10:30', 'UTC-09:00')"
   ]
  },
  {
   "cell_type": "code",
   "execution_count": null,
   "id": "940bbeee-b96d-4a3b-b9b2-ddf4484c7973",
   "metadata": {},
   "outputs": [],
   "source": []
  }
 ],
 "metadata": {
  "kernelspec": {
   "display_name": "Python 3 (ipykernel)",
   "language": "python",
   "name": "python3"
  },
  "language_info": {
   "codemirror_mode": {
    "name": "ipython",
    "version": 3
   },
   "file_extension": ".py",
   "mimetype": "text/x-python",
   "name": "python",
   "nbconvert_exporter": "python",
   "pygments_lexer": "ipython3",
   "version": "3.12.7"
  }
 },
 "nbformat": 4,
 "nbformat_minor": 5
}
