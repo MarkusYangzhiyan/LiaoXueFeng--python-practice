{
 "cells": [
  {
   "cell_type": "markdown",
   "id": "b2d099e5-15f4-469f-ba3e-b7c2d875466f",
   "metadata": {},
   "source": [
    "### python 中输入"
   ]
  },
  {
   "cell_type": "code",
   "execution_count": 1,
   "id": "9737d3a2-02ed-4923-b379-5d59dfc4be24",
   "metadata": {},
   "outputs": [
    {
     "name": "stdin",
     "output_type": "stream",
     "text": [
      " Markus\n"
     ]
    }
   ],
   "source": [
    "name = input()"
   ]
  },
  {
   "cell_type": "code",
   "execution_count": 2,
   "id": "27b34182-9add-498a-a564-c855d60d5106",
   "metadata": {},
   "outputs": [
    {
     "data": {
      "text/plain": [
       "'Markus'"
      ]
     },
     "execution_count": 2,
     "metadata": {},
     "output_type": "execute_result"
    }
   ],
   "source": [
    "name"
   ]
  },
  {
   "cell_type": "code",
   "execution_count": 3,
   "id": "689d62d1-3d57-4007-bcae-24f9e776e07d",
   "metadata": {},
   "outputs": [
    {
     "name": "stdout",
     "output_type": "stream",
     "text": [
      "hello Markus\n"
     ]
    }
   ],
   "source": [
    "print('hello',name)"
   ]
  },
  {
   "cell_type": "code",
   "execution_count": 5,
   "id": "6f5a0d34-886c-405d-824f-05b5b9466fb6",
   "metadata": {},
   "outputs": [
    {
     "name": "stdin",
     "output_type": "stream",
     "text": [
      " markus\n"
     ]
    },
    {
     "name": "stdout",
     "output_type": "stream",
     "text": [
      "hello markus\n"
     ]
    }
   ],
   "source": [
    "name = input()\n",
    "print('hello',name)"
   ]
  },
  {
   "cell_type": "code",
   "execution_count": 8,
   "id": "e9450e3b-5a76-45b8-9bf8-2af7f1732826",
   "metadata": {},
   "outputs": [
    {
     "name": "stdin",
     "output_type": "stream",
     "text": [
      "plz enter your name: markus\n"
     ]
    },
    {
     "name": "stdout",
     "output_type": "stream",
     "text": [
      "hello markus\n"
     ]
    }
   ],
   "source": [
    "name = input('plz enter your name:')\n",
    "print('hello',name)"
   ]
  },
  {
   "cell_type": "code",
   "execution_count": 11,
   "id": "96c2fc2f-1131-4923-9ffc-eaa8fc7ae0b1",
   "metadata": {},
   "outputs": [
    {
     "name": "stdout",
     "output_type": "stream",
     "text": [
      "1024 X 768 = 786432\n"
     ]
    }
   ],
   "source": [
    "print('1024 X 768 =' , 1024 * 768)"
   ]
  },
  {
   "cell_type": "code",
   "execution_count": 13,
   "id": "9733f563-df65-4d1d-8d03-e157efac6b55",
   "metadata": {},
   "outputs": [
    {
     "name": "stdin",
     "output_type": "stream",
     "text": [
      "plz enter your first number: 1024\n",
      "plz enter your second number: 768\n"
     ]
    },
    {
     "name": "stdout",
     "output_type": "stream",
     "text": [
      "1024 * 768 = 786432\n"
     ]
    }
   ],
   "source": [
    "x = input('plz enter your first number:')\n",
    "y = input('plz enter your second number:')\n",
    "print(x ,'*', y ,'=', int(x) * int(y))"
   ]
  },
  {
   "cell_type": "markdown",
   "id": "e94e7a9a-2a90-4db3-91ce-315789850c03",
   "metadata": {},
   "source": [
    "### 字符串和编码"
   ]
  },
  {
   "cell_type": "code",
   "execution_count": 15,
   "id": "37602562-87e8-4e75-bb01-92d446482a05",
   "metadata": {},
   "outputs": [
    {
     "name": "stdout",
     "output_type": "stream",
     "text": [
      "I'm ok!\n"
     ]
    }
   ],
   "source": [
    "print('I\\'m ok!')"
   ]
  },
  {
   "cell_type": "code",
   "execution_count": 16,
   "id": "5b87e4ce-0ea6-43ab-a74a-90d0bfc8c510",
   "metadata": {},
   "outputs": [
    {
     "name": "stdout",
     "output_type": "stream",
     "text": [
      "I'm learning:\n",
      " python!\n"
     ]
    }
   ],
   "source": [
    "print('I\\'m learning:\\n python!')"
   ]
  },
  {
   "cell_type": "code",
   "execution_count": 17,
   "id": "85a884dc-db64-406b-ad7e-13d9dfbd3f87",
   "metadata": {},
   "outputs": [
    {
     "name": "stdout",
     "output_type": "stream",
     "text": [
      "\\ \n",
      " \\\n"
     ]
    }
   ],
   "source": [
    "print('\\\\ \\n \\\\')"
   ]
  },
  {
   "cell_type": "code",
   "execution_count": 19,
   "id": "51b3865d-2b65-445d-97c7-5943a045efdc",
   "metadata": {},
   "outputs": [
    {
     "name": "stdout",
     "output_type": "stream",
     "text": [
      "\\ \t \\\n"
     ]
    }
   ],
   "source": [
    "print('\\\\ \\t \\\\')"
   ]
  },
  {
   "cell_type": "code",
   "execution_count": 20,
   "id": "c55b4eb9-7f6b-4570-8e05-54b5c5dd7ef3",
   "metadata": {},
   "outputs": [
    {
     "name": "stdout",
     "output_type": "stream",
     "text": [
      "\\\\ \\t \\\\\n"
     ]
    }
   ],
   "source": [
    "print(r\"\\\\ \\t \\\\\")"
   ]
  },
  {
   "cell_type": "code",
   "execution_count": 24,
   "id": "bca1eb39-feef-4d6c-aadb-f45735e1dcb5",
   "metadata": {},
   "outputs": [
    {
     "name": "stdout",
     "output_type": "stream",
     "text": [
      "line1 ... line2 ... line3\n",
      "\n"
     ]
    }
   ],
   "source": [
    "print('''line1 ... line2 ... line3\n",
    "''')"
   ]
  },
  {
   "cell_type": "code",
   "execution_count": 26,
   "id": "7abb74a2-3af7-4ae8-8d10-7616e8c2c1b7",
   "metadata": {},
   "outputs": [
    {
     "name": "stdout",
     "output_type": "stream",
     "text": [
      "line1\n",
      "line2\n",
      "line3\n",
      "\n"
     ]
    }
   ],
   "source": [
    "print('''line1\n",
    "... line2\n",
    "... line3\n",
    "''')"
   ]
  },
  {
   "cell_type": "code",
   "execution_count": 29,
   "id": "d48f0a91-f726-459d-9cb5-e86d0d27b9e1",
   "metadata": {},
   "outputs": [
    {
     "name": "stdout",
     "output_type": "stream",
     "text": [
      "line1 \n",
      "line2 \n",
      "line3 \n"
     ]
    }
   ],
   "source": [
    "print(\"line1 \\nline2 \\nline3 \")"
   ]
  },
  {
   "cell_type": "code",
   "execution_count": 31,
   "id": "5b072ee5-64e4-45fd-9c12-1beb75f45b02",
   "metadata": {},
   "outputs": [
    {
     "name": "stdout",
     "output_type": "stream",
     "text": [
      "hello,\\n\n",
      "world\n",
      "\n"
     ]
    }
   ],
   "source": [
    "print(r'''hello,\\n\n",
    "world\n",
    "''')"
   ]
  },
  {
   "cell_type": "code",
   "execution_count": 33,
   "id": "7dc34b80-f0ff-4459-9cfc-effd5be035cc",
   "metadata": {},
   "outputs": [
    {
     "name": "stdout",
     "output_type": "stream",
     "text": [
      " hello,'Adam' \n"
     ]
    }
   ],
   "source": [
    "s1 = ' hello,\\'Adam\\' '\n",
    "print(s1)"
   ]
  },
  {
   "cell_type": "code",
   "execution_count": 34,
   "id": "fad4e136-0a9e-46df-b0c3-21ba13dfa42d",
   "metadata": {},
   "outputs": [
    {
     "name": "stdout",
     "output_type": "stream",
     "text": [
      " hello,\"Brat\" \n"
     ]
    }
   ],
   "source": [
    "s2 = r' hello,\"Brat\" '\n",
    "print(s2)"
   ]
  },
  {
   "cell_type": "code",
   "execution_count": 43,
   "id": "d41fea8d-de41-4eab-b261-aaccabdce417",
   "metadata": {},
   "outputs": [
    {
     "name": "stdout",
     "output_type": "stream",
     "text": [
      "hello,\n",
      "Bob!\n",
      "and\n",
      "markus\n"
     ]
    }
   ],
   "source": [
    "s3 = r'''hello,\n",
    "Bob!\n",
    "and\n",
    "markus'''\n",
    "print(s3)"
   ]
  },
  {
   "cell_type": "code",
   "execution_count": 44,
   "id": "d60883c7-79d7-4f94-bcbd-a0468b8bf91c",
   "metadata": {},
   "outputs": [
    {
     "name": "stdout",
     "output_type": "stream",
     "text": [
      "包含中文的str\n"
     ]
    }
   ],
   "source": [
    "print('包含中文的str')"
   ]
  },
  {
   "cell_type": "code",
   "execution_count": 45,
   "id": "cda8b528-1368-46d0-8844-73f063dd2280",
   "metadata": {},
   "outputs": [
    {
     "data": {
      "text/plain": [
       "97"
      ]
     },
     "execution_count": 45,
     "metadata": {},
     "output_type": "execute_result"
    }
   ],
   "source": [
    "ord('a')"
   ]
  },
  {
   "cell_type": "code",
   "execution_count": 46,
   "id": "84007e35-1c0e-410a-bd84-5835621f4a24",
   "metadata": {},
   "outputs": [
    {
     "data": {
      "text/plain": [
       "20013"
      ]
     },
     "execution_count": 46,
     "metadata": {},
     "output_type": "execute_result"
    }
   ],
   "source": [
    "ord('中')"
   ]
  },
  {
   "cell_type": "code",
   "execution_count": 47,
   "id": "ab815932-fef0-47b7-88b8-9f4bf0594785",
   "metadata": {},
   "outputs": [
    {
     "data": {
      "text/plain": [
       "'@'"
      ]
     },
     "execution_count": 47,
     "metadata": {},
     "output_type": "execute_result"
    }
   ],
   "source": [
    "chr(64)"
   ]
  },
  {
   "cell_type": "code",
   "execution_count": 48,
   "id": "7e2fe537-3687-4b59-ada1-bd1747d78aee",
   "metadata": {},
   "outputs": [
    {
     "data": {
      "text/plain": [
       "'中'"
      ]
     },
     "execution_count": 48,
     "metadata": {},
     "output_type": "execute_result"
    }
   ],
   "source": [
    "chr(20013)"
   ]
  },
  {
   "cell_type": "code",
   "execution_count": 51,
   "id": "e70955aa-0c25-45f8-a57a-2d98e3a845f2",
   "metadata": {},
   "outputs": [
    {
     "name": "stdout",
     "output_type": "stream",
     "text": [
      "hi markus! you have $10000 !\n"
     ]
    }
   ],
   "source": [
    "name = 'markus'\n",
    "money = 10000\n",
    "print('hi {}! you have ${} !'.format(name,money))"
   ]
  },
  {
   "cell_type": "code",
   "execution_count": 52,
   "id": "7020322b-6b36-4606-82e9-009c405f069b",
   "metadata": {},
   "outputs": [
    {
     "name": "stdout",
     "output_type": "stream",
     "text": [
      "hi markus! you have $10000 \n"
     ]
    }
   ],
   "source": [
    "print(f\"hi {name}! you have ${money} \")"
   ]
  },
  {
   "cell_type": "code",
   "execution_count": 56,
   "id": "fce5a580-0469-4a75-814f-1552fa28fdae",
   "metadata": {},
   "outputs": [
    {
     "name": "stdout",
     "output_type": "stream",
     "text": [
      "18.055555555555554\n"
     ]
    }
   ],
   "source": [
    "s1 = 72\n",
    "s2 = 85\n",
    "r = (85-72)/72 * 100\n",
    "print(r)"
   ]
  },
  {
   "cell_type": "code",
   "execution_count": 57,
   "id": "c126866f-0ddd-4644-8208-e888c702eacc",
   "metadata": {},
   "outputs": [
    {
     "name": "stdout",
     "output_type": "stream",
     "text": [
      "18.1\n"
     ]
    }
   ],
   "source": [
    "print(round(r,1))"
   ]
  },
  {
   "cell_type": "code",
   "execution_count": 62,
   "id": "1aa53a15-0fac-4100-8f28-cb6c3074a9d3",
   "metadata": {},
   "outputs": [
    {
     "name": "stdout",
     "output_type": "stream",
     "text": [
      "小明成绩提升的百分点是：18.1%\n"
     ]
    }
   ],
   "source": [
    "print('小明成绩提升的百分点是：{:.1f}%'.format(r))"
   ]
  },
  {
   "cell_type": "markdown",
   "id": "450daa2f-93c3-4f57-9c62-bae18ad0ec21",
   "metadata": {},
   "source": [
    "### list and tuple"
   ]
  },
  {
   "cell_type": "code",
   "execution_count": 63,
   "id": "0271ca24-403e-4c6a-a685-9d88f90dd369",
   "metadata": {},
   "outputs": [],
   "source": [
    "mylist = ['jiukun','zhongjin','simu','gupiao']"
   ]
  },
  {
   "cell_type": "code",
   "execution_count": 64,
   "id": "56ffdb84-2e63-4f05-b804-540b055c08da",
   "metadata": {},
   "outputs": [],
   "source": [
    "mylist.insert(0,'lingjun')"
   ]
  },
  {
   "cell_type": "code",
   "execution_count": 65,
   "id": "524f3931-9940-4efb-a5d8-459df5e90a25",
   "metadata": {},
   "outputs": [
    {
     "data": {
      "text/plain": [
       "['lingjun', 'jiukun', 'zhongjin', 'simu', 'gupiao']"
      ]
     },
     "execution_count": 65,
     "metadata": {},
     "output_type": "execute_result"
    }
   ],
   "source": [
    "mylist"
   ]
  },
  {
   "cell_type": "code",
   "execution_count": 66,
   "id": "93ce0abb-6963-4e53-85ec-3e7fb19676e4",
   "metadata": {},
   "outputs": [
    {
     "data": {
      "text/plain": [
       "'gupiao'"
      ]
     },
     "execution_count": 66,
     "metadata": {},
     "output_type": "execute_result"
    }
   ],
   "source": [
    "mylist.pop()"
   ]
  },
  {
   "cell_type": "code",
   "execution_count": 67,
   "id": "0a0bc94b-7c3a-4a46-a92d-9f8067346739",
   "metadata": {},
   "outputs": [
    {
     "data": {
      "text/plain": [
       "['lingjun', 'jiukun', 'zhongjin', 'simu']"
      ]
     },
     "execution_count": 67,
     "metadata": {},
     "output_type": "execute_result"
    }
   ],
   "source": [
    "mylist"
   ]
  },
  {
   "cell_type": "code",
   "execution_count": 68,
   "id": "0dd2bc32-da53-4671-9635-c1e67105d01a",
   "metadata": {},
   "outputs": [
    {
     "data": {
      "text/plain": [
       "'jiukun'"
      ]
     },
     "execution_count": 68,
     "metadata": {},
     "output_type": "execute_result"
    }
   ],
   "source": [
    "mylist.pop(1)"
   ]
  },
  {
   "cell_type": "code",
   "execution_count": 69,
   "id": "a04bba86-d746-4e43-9349-886cbf45ec1e",
   "metadata": {},
   "outputs": [
    {
     "data": {
      "text/plain": [
       "['lingjun', 'zhongjin', 'simu']"
      ]
     },
     "execution_count": 69,
     "metadata": {},
     "output_type": "execute_result"
    }
   ],
   "source": [
    "mylist"
   ]
  },
  {
   "cell_type": "code",
   "execution_count": 70,
   "id": "d9ccce9f-7315-4cd1-b0f1-ebe9a846a45a",
   "metadata": {},
   "outputs": [],
   "source": [
    "p = ['work in','lingjun']\n",
    "s = ['I','am',p,'simu']"
   ]
  },
  {
   "cell_type": "code",
   "execution_count": 71,
   "id": "d74bc72d-29c8-4515-9be5-92d636dff518",
   "metadata": {},
   "outputs": [
    {
     "data": {
      "text/plain": [
       "'lingjun'"
      ]
     },
     "execution_count": 71,
     "metadata": {},
     "output_type": "execute_result"
    }
   ],
   "source": [
    "p[1]"
   ]
  },
  {
   "cell_type": "code",
   "execution_count": 72,
   "id": "7455d8a0-8a64-4c0d-89fd-babbef55d6f7",
   "metadata": {},
   "outputs": [
    {
     "data": {
      "text/plain": [
       "'lingjun'"
      ]
     },
     "execution_count": 72,
     "metadata": {},
     "output_type": "execute_result"
    }
   ],
   "source": [
    "s[2][1]"
   ]
  },
  {
   "cell_type": "code",
   "execution_count": 74,
   "id": "c41a7d0e-4728-4f21-bc64-fd9135fed642",
   "metadata": {},
   "outputs": [],
   "source": [
    "L = [\n",
    "    ['Apple', 'Google', 'Microsoft'],\n",
    "    ['Java', 'Python', 'Ruby', 'PHP'],\n",
    "    ['Adam', 'Bart', 'Bob']\n",
    "]"
   ]
  },
  {
   "cell_type": "code",
   "execution_count": 87,
   "id": "20a58e36-db5f-4799-b7ea-c22692d56abd",
   "metadata": {},
   "outputs": [
    {
     "name": "stdout",
     "output_type": "stream",
     "text": [
      "Apple \n",
      " Apple\n"
     ]
    }
   ],
   "source": [
    "print('Apple',\"\\n\",L[0][0])"
   ]
  },
  {
   "cell_type": "code",
   "execution_count": 88,
   "id": "198748ce-2520-468d-a970-90870c215a93",
   "metadata": {},
   "outputs": [
    {
     "name": "stdout",
     "output_type": "stream",
     "text": [
      "python \n",
      " Python\n"
     ]
    }
   ],
   "source": [
    "print('python',\"\\n\",L[1][1])"
   ]
  },
  {
   "cell_type": "code",
   "execution_count": 89,
   "id": "60321d08-9236-4485-8cfa-854b54a113b2",
   "metadata": {},
   "outputs": [
    {
     "name": "stdout",
     "output_type": "stream",
     "text": [
      "Bob \n",
      " Bob\n"
     ]
    }
   ],
   "source": [
    "print(\"Bob\",\"\\n\",L[2][2])"
   ]
  },
  {
   "cell_type": "markdown",
   "id": "8df797fd-5a43-4653-b8d5-113efa7a531c",
   "metadata": {},
   "source": [
    "### 条件判断\n"
   ]
  },
  {
   "cell_type": "code",
   "execution_count": 90,
   "id": "ee903808-f94f-4c86-9025-35e5c260a35c",
   "metadata": {},
   "outputs": [
    {
     "name": "stdout",
     "output_type": "stream",
     "text": [
      "too weight\n"
     ]
    }
   ],
   "source": [
    "height = 1.75\n",
    "weight = 80.5\n",
    "\n",
    "bmi = weight / (height ** 2)\n",
    "\n",
    "if bmi <18.5:\n",
    "    print('too light')\n",
    "elif bmi <= 25:\n",
    "    print('normal')\n",
    "elif bmi <= 28:\n",
    "    print('too weight')\n",
    "elif bmi <= 32:\n",
    "    print('fat')\n",
    "else:\n",
    "    print('too fat')\n",
    "    "
   ]
  },
  {
   "cell_type": "markdown",
   "id": "607b6336-4c0f-4b83-86e6-2a1cdc6a7781",
   "metadata": {},
   "source": [
    "小明身高1.75，体重80.5kg。请根据BMI公式（体重除以身高的平方）帮小明计算他的BMI指数，并根据BMI指数：\n",
    "\n",
    "* 低于18.5：过轻\n",
    "* 18.5-25：正常\n",
    "* 25-28：过重\n",
    "* 28-32：肥胖\n",
    "* 高于32：严重肥胖\n"
   ]
  },
  {
   "cell_type": "code",
   "execution_count": 119,
   "id": "39b7c200-c5af-42d6-b600-92012851edbf",
   "metadata": {},
   "outputs": [
    {
     "name": "stdin",
     "output_type": "stream",
     "text": [
      "plz enter your height(m): 1.73\n",
      "plz enter your weight(kg): 55\n"
     ]
    },
    {
     "name": "stdout",
     "output_type": "stream",
     "text": [
      "The value of BMI is:18.38. \n",
      " The category is:过轻 \n"
     ]
    }
   ],
   "source": [
    "def get_number(number):\n",
    "    while True:\n",
    "        try:            \n",
    "            score = float(input(number))\n",
    "            if score > 0 :\n",
    "                return score\n",
    "            else:\n",
    "                print('plz enter a valid number!!!')\n",
    "        except ValueError: \n",
    "            print('plz enter a valid number!!!')\n",
    "\n",
    "def bmi_classify():\n",
    "    height = get_number('plz enter your height(m):')\n",
    "    weight = get_number('plz enter your weight(kg):')\n",
    "    bmi = weight / (height ** 2)\n",
    "\n",
    "\n",
    "    bmi_dict = {(32,float('inf')):'严重肥胖',\n",
    "               (28,32):\"肥胖\",\n",
    "               (25,28):\"过重\",\n",
    "               (18.5,25):\"正常\",\n",
    "               (0,18.5):\"过轻\"}\n",
    "    \n",
    "    for (lower,upper),category in bmi_dict.items():\n",
    "        if lower <= bmi < upper:\n",
    "            print(f'The value of BMI is:{bmi:.2f}. \\n The category is:{category} ')\n",
    "\n",
    "if __name__ == \"__main__\":\n",
    "    bmi_classify()\n",
    "            "
   ]
  },
  {
   "cell_type": "markdown",
   "id": "85e1666f-1735-42c2-a513-bd70ea4b2346",
   "metadata": {},
   "source": [
    "### 循环"
   ]
  },
  {
   "cell_type": "code",
   "execution_count": 120,
   "id": "cb7e5e01-a853-4829-9860-69f4f28cf15d",
   "metadata": {},
   "outputs": [],
   "source": [
    "L = ['Bart', 'Lisa', 'Adam']\n"
   ]
  },
  {
   "cell_type": "code",
   "execution_count": 123,
   "id": "9691ca0b-a51f-45a0-91d3-49eeb45d8480",
   "metadata": {},
   "outputs": [
    {
     "name": "stdout",
     "output_type": "stream",
     "text": [
      "Hello Bart !\n",
      "Hello Lisa !\n",
      "Hello Adam !\n"
     ]
    }
   ],
   "source": [
    "for i in L:\n",
    "    print('Hello',i,'!')"
   ]
  },
  {
   "cell_type": "code",
   "execution_count": 124,
   "id": "da59507c-fca9-41bd-bc97-ea2910dace3e",
   "metadata": {},
   "outputs": [
    {
     "name": "stdout",
     "output_type": "stream",
     "text": [
      "1\n",
      "2\n",
      "3\n",
      "4\n",
      "5\n",
      "6\n",
      "7\n",
      "8\n",
      "9\n",
      "10\n",
      "end\n"
     ]
    }
   ],
   "source": [
    "n = 1\n",
    "while n <= 100:\n",
    "    if n > 10:\n",
    "        break\n",
    "    print(n)\n",
    "    n += 1\n",
    "print('end')"
   ]
  },
  {
   "cell_type": "code",
   "execution_count": null,
   "id": "4f97afe9-7128-4230-972e-e1c9b334b7a1",
   "metadata": {},
   "outputs": [],
   "source": []
  },
  {
   "cell_type": "code",
   "execution_count": null,
   "id": "a0cecbf1-3f4d-4e21-87d3-b94a4d72eb88",
   "metadata": {},
   "outputs": [],
   "source": []
  },
  {
   "cell_type": "code",
   "execution_count": null,
   "id": "4ea157b2-a066-4bed-b622-e4d3cd29d420",
   "metadata": {},
   "outputs": [],
   "source": []
  },
  {
   "cell_type": "code",
   "execution_count": null,
   "id": "90396365-f410-43f4-a056-42205f911388",
   "metadata": {},
   "outputs": [],
   "source": []
  },
  {
   "cell_type": "code",
   "execution_count": null,
   "id": "1c1ff8bd-3223-4449-91e0-977323936a0c",
   "metadata": {},
   "outputs": [],
   "source": []
  },
  {
   "cell_type": "code",
   "execution_count": null,
   "id": "69610b9c-2499-43e9-8808-e341e96f5e68",
   "metadata": {},
   "outputs": [],
   "source": []
  },
  {
   "cell_type": "code",
   "execution_count": null,
   "id": "637a05c1-00f9-42b9-97c0-20036e8bbc93",
   "metadata": {},
   "outputs": [],
   "source": []
  },
  {
   "cell_type": "code",
   "execution_count": null,
   "id": "14079957-b4c8-48a3-bc78-1f923327664e",
   "metadata": {},
   "outputs": [],
   "source": []
  },
  {
   "cell_type": "code",
   "execution_count": null,
   "id": "e48efb03-ff70-4587-a625-bb3a57e40c93",
   "metadata": {},
   "outputs": [],
   "source": []
  },
  {
   "cell_type": "code",
   "execution_count": null,
   "id": "62206606-b5bc-4550-930d-e20de84968c4",
   "metadata": {},
   "outputs": [],
   "source": []
  },
  {
   "cell_type": "code",
   "execution_count": null,
   "id": "67f07595-f321-43df-bd04-de1e50f813de",
   "metadata": {},
   "outputs": [],
   "source": []
  },
  {
   "cell_type": "code",
   "execution_count": null,
   "id": "0cb6fe07-b399-4646-a222-b3f0d54a75e1",
   "metadata": {},
   "outputs": [],
   "source": []
  },
  {
   "cell_type": "code",
   "execution_count": null,
   "id": "eb365fd8-1542-46d1-beaa-f9caf3072d2c",
   "metadata": {},
   "outputs": [],
   "source": []
  },
  {
   "cell_type": "code",
   "execution_count": null,
   "id": "594e7a0c-de7a-4574-afc1-072d0994aa5c",
   "metadata": {},
   "outputs": [],
   "source": []
  },
  {
   "cell_type": "code",
   "execution_count": null,
   "id": "855b6bd4-7c16-4987-94f6-8862bbbee33f",
   "metadata": {},
   "outputs": [],
   "source": []
  },
  {
   "cell_type": "code",
   "execution_count": null,
   "id": "53764b04-22e4-4b6a-a37f-35df74a4988f",
   "metadata": {},
   "outputs": [],
   "source": []
  },
  {
   "cell_type": "code",
   "execution_count": null,
   "id": "f30f09eb-5b51-4638-9261-f2f056bfad2c",
   "metadata": {},
   "outputs": [],
   "source": []
  },
  {
   "cell_type": "code",
   "execution_count": null,
   "id": "1351bb7f-2d70-4c49-ba93-d532039e6164",
   "metadata": {},
   "outputs": [],
   "source": []
  }
 ],
 "metadata": {
  "kernelspec": {
   "display_name": "Python 3 (ipykernel)",
   "language": "python",
   "name": "python3"
  },
  "language_info": {
   "codemirror_mode": {
    "name": "ipython",
    "version": 3
   },
   "file_extension": ".py",
   "mimetype": "text/x-python",
   "name": "python",
   "nbconvert_exporter": "python",
   "pygments_lexer": "ipython3",
   "version": "3.12.7"
  }
 },
 "nbformat": 4,
 "nbformat_minor": 5
}
