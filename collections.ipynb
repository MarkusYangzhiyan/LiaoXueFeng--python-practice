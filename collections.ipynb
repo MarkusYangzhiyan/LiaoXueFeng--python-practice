{
 "cells": [
  {
   "cell_type": "code",
   "execution_count": 1,
   "id": "61f27a49-0d03-43b5-a090-e583e1d398b1",
   "metadata": {},
   "outputs": [],
   "source": [
    "from collections import namedtuple"
   ]
  },
  {
   "cell_type": "code",
   "execution_count": 2,
   "id": "014200f1-24c2-4793-b2e7-e584038c55d2",
   "metadata": {},
   "outputs": [],
   "source": [
    "point = namedtuple('point',['x','y'])"
   ]
  },
  {
   "cell_type": "code",
   "execution_count": 3,
   "id": "0dd81b8a-e5dd-447c-8688-7cbb2087690e",
   "metadata": {},
   "outputs": [
    {
     "data": {
      "text/plain": [
       "__main__.point"
      ]
     },
     "execution_count": 3,
     "metadata": {},
     "output_type": "execute_result"
    }
   ],
   "source": [
    "point"
   ]
  },
  {
   "cell_type": "code",
   "execution_count": 4,
   "id": "9be2e4ae-44d8-4665-8417-3cb589518c30",
   "metadata": {},
   "outputs": [],
   "source": [
    "p = point(1,2)"
   ]
  },
  {
   "cell_type": "code",
   "execution_count": 5,
   "id": "d06b1a61-7295-4e6e-80ec-a5dcb3b6a861",
   "metadata": {},
   "outputs": [
    {
     "data": {
      "text/plain": [
       "point(x=1, y=2)"
      ]
     },
     "execution_count": 5,
     "metadata": {},
     "output_type": "execute_result"
    }
   ],
   "source": [
    "p"
   ]
  },
  {
   "cell_type": "code",
   "execution_count": 6,
   "id": "301e0065-b0a4-4a04-a80d-ca214da1e57e",
   "metadata": {},
   "outputs": [
    {
     "data": {
      "text/plain": [
       "1"
      ]
     },
     "execution_count": 6,
     "metadata": {},
     "output_type": "execute_result"
    }
   ],
   "source": [
    "p.x"
   ]
  },
  {
   "cell_type": "code",
   "execution_count": 7,
   "id": "0f9cb9cf-585f-457f-88af-a02b3cec39c3",
   "metadata": {},
   "outputs": [],
   "source": [
    "point = namedtuple('point',['a','b'])"
   ]
  },
  {
   "cell_type": "code",
   "execution_count": 10,
   "id": "3f410aac-9f97-4d7a-8ba4-b55a8ac858ef",
   "metadata": {},
   "outputs": [],
   "source": [
    "p = point(1,2)"
   ]
  },
  {
   "cell_type": "code",
   "execution_count": 11,
   "id": "e6f33a2f-296c-4d00-84ca-78f9a3b5dc45",
   "metadata": {},
   "outputs": [
    {
     "data": {
      "text/plain": [
       "point(a=1, b=2)"
      ]
     },
     "execution_count": 11,
     "metadata": {},
     "output_type": "execute_result"
    }
   ],
   "source": [
    "p"
   ]
  },
  {
   "cell_type": "code",
   "execution_count": 12,
   "id": "4c46bc30-92bc-47bb-ac65-7629ca3fce9e",
   "metadata": {},
   "outputs": [
    {
     "data": {
      "text/plain": [
       "1"
      ]
     },
     "execution_count": 12,
     "metadata": {},
     "output_type": "execute_result"
    }
   ],
   "source": [
    "p.a"
   ]
  },
  {
   "cell_type": "code",
   "execution_count": 13,
   "id": "d2771623-8fad-4958-8484-e84c38fde97d",
   "metadata": {},
   "outputs": [
    {
     "data": {
      "text/plain": [
       "True"
      ]
     },
     "execution_count": 13,
     "metadata": {},
     "output_type": "execute_result"
    }
   ],
   "source": [
    "isinstance(p,point)"
   ]
  },
  {
   "cell_type": "code",
   "execution_count": 14,
   "id": "6fc53242-9352-401d-a947-9553af9fff81",
   "metadata": {},
   "outputs": [
    {
     "data": {
      "text/plain": [
       "True"
      ]
     },
     "execution_count": 14,
     "metadata": {},
     "output_type": "execute_result"
    }
   ],
   "source": [
    "isinstance(p,tuple)"
   ]
  },
  {
   "cell_type": "code",
   "execution_count": 15,
   "id": "992919bb-adcb-49ea-8853-92d6aed9a6cf",
   "metadata": {},
   "outputs": [],
   "source": [
    "circle = namedtuple('circle',['x','y','r'])"
   ]
  },
  {
   "cell_type": "code",
   "execution_count": 16,
   "id": "af1ed7de-0ef0-4989-91c4-f42016f5c1c0",
   "metadata": {},
   "outputs": [],
   "source": [
    "from collections import deque"
   ]
  },
  {
   "cell_type": "code",
   "execution_count": 17,
   "id": "00fc476c-9904-4eee-a03a-ce166e33037d",
   "metadata": {},
   "outputs": [],
   "source": [
    "q = deque(['a','b','c'])"
   ]
  },
  {
   "cell_type": "code",
   "execution_count": 18,
   "id": "21c32b24-4e5b-45a7-9f4f-447a2af6cc0e",
   "metadata": {},
   "outputs": [
    {
     "data": {
      "text/plain": [
       "deque(['a', 'b', 'c'])"
      ]
     },
     "execution_count": 18,
     "metadata": {},
     "output_type": "execute_result"
    }
   ],
   "source": [
    "q"
   ]
  },
  {
   "cell_type": "code",
   "execution_count": 19,
   "id": "fdee6a4e-9b24-4a67-8cf5-d5acf7c9270f",
   "metadata": {},
   "outputs": [],
   "source": [
    "q.append('x')"
   ]
  },
  {
   "cell_type": "code",
   "execution_count": 20,
   "id": "7cc2fd43-61e5-46bf-a04f-44a12da693ff",
   "metadata": {},
   "outputs": [
    {
     "data": {
      "text/plain": [
       "deque(['a', 'b', 'c', 'x'])"
      ]
     },
     "execution_count": 20,
     "metadata": {},
     "output_type": "execute_result"
    }
   ],
   "source": [
    "q"
   ]
  },
  {
   "cell_type": "code",
   "execution_count": 21,
   "id": "d4ef7bb9-ffb8-45e1-83c0-f5cbe5fb5955",
   "metadata": {},
   "outputs": [],
   "source": [
    "q.appendleft('y')"
   ]
  },
  {
   "cell_type": "code",
   "execution_count": 22,
   "id": "84f534ad-8bd2-4f84-bd36-9f49da3e9a35",
   "metadata": {},
   "outputs": [
    {
     "data": {
      "text/plain": [
       "deque(['y', 'a', 'b', 'c', 'x'])"
      ]
     },
     "execution_count": 22,
     "metadata": {},
     "output_type": "execute_result"
    }
   ],
   "source": [
    "q"
   ]
  },
  {
   "cell_type": "code",
   "execution_count": 23,
   "id": "5a3fe298-0f01-4a02-8d79-07a717a05351",
   "metadata": {},
   "outputs": [],
   "source": [
    "from collections import defaultdict"
   ]
  },
  {
   "cell_type": "code",
   "execution_count": 29,
   "id": "2f1ab3c5-4748-4c2f-a3dc-7f7da9dc23e3",
   "metadata": {},
   "outputs": [],
   "source": [
    "dd = defaultdict(lambda:'N/A')"
   ]
  },
  {
   "cell_type": "code",
   "execution_count": 30,
   "id": "05e85be4-6bdc-4b12-982e-a65bc007e8bd",
   "metadata": {},
   "outputs": [],
   "source": [
    "dd['key1'] = 'abc'"
   ]
  },
  {
   "cell_type": "code",
   "execution_count": 31,
   "id": "ca39afd4-d99e-4040-8378-5080fa57bf14",
   "metadata": {},
   "outputs": [
    {
     "data": {
      "text/plain": [
       "'abc'"
      ]
     },
     "execution_count": 31,
     "metadata": {},
     "output_type": "execute_result"
    }
   ],
   "source": [
    "dd['key1']"
   ]
  },
  {
   "cell_type": "code",
   "execution_count": 32,
   "id": "d35c6037-a8c7-44ff-b7d9-77d0acaf96c4",
   "metadata": {},
   "outputs": [
    {
     "data": {
      "text/plain": [
       "'N/A'"
      ]
     },
     "execution_count": 32,
     "metadata": {},
     "output_type": "execute_result"
    }
   ],
   "source": [
    "dd['key2']"
   ]
  },
  {
   "cell_type": "code",
   "execution_count": 33,
   "id": "9767b8bf-86b9-4791-b89c-5c1f74e35255",
   "metadata": {},
   "outputs": [],
   "source": [
    "from collections import OrderedDict"
   ]
  },
  {
   "cell_type": "code",
   "execution_count": 39,
   "id": "f70ae854-f064-4036-bdbb-7e2b1a4205f1",
   "metadata": {},
   "outputs": [],
   "source": [
    "d = dict([('a',1),('b',2),('c',3)])"
   ]
  },
  {
   "cell_type": "code",
   "execution_count": 40,
   "id": "fc1ec72a-59bf-4baa-92de-bafad4b2e7e3",
   "metadata": {},
   "outputs": [
    {
     "data": {
      "text/plain": [
       "{'a': 1, 'b': 2, 'c': 3}"
      ]
     },
     "execution_count": 40,
     "metadata": {},
     "output_type": "execute_result"
    }
   ],
   "source": [
    "d"
   ]
  },
  {
   "cell_type": "code",
   "execution_count": 41,
   "id": "687224db-a313-4ac8-a9f8-ee56fd167c55",
   "metadata": {},
   "outputs": [],
   "source": [
    "od = OrderedDict([('a',1),('b',2),('c',3)])"
   ]
  },
  {
   "cell_type": "code",
   "execution_count": 42,
   "id": "6f71817d-feb5-4ce5-b1f8-c7b063a16a94",
   "metadata": {},
   "outputs": [
    {
     "data": {
      "text/plain": [
       "OrderedDict([('a', 1), ('b', 2), ('c', 3)])"
      ]
     },
     "execution_count": 42,
     "metadata": {},
     "output_type": "execute_result"
    }
   ],
   "source": [
    "od"
   ]
  },
  {
   "cell_type": "code",
   "execution_count": 43,
   "id": "58dce1e0-41e5-4d73-8269-89de05ea0bb9",
   "metadata": {},
   "outputs": [],
   "source": [
    "od = OrderedDict()"
   ]
  },
  {
   "cell_type": "code",
   "execution_count": 44,
   "id": "eac27003-41dc-4c87-ae7f-71fe094655cd",
   "metadata": {},
   "outputs": [],
   "source": [
    "od['z'] = 1\n",
    "od['x'] = 2\n",
    "od['y'] = 3"
   ]
  },
  {
   "cell_type": "code",
   "execution_count": 45,
   "id": "5a985985-cd8d-410d-9075-3375bf1c2508",
   "metadata": {},
   "outputs": [
    {
     "data": {
      "text/plain": [
       "OrderedDict([('z', 1), ('x', 2), ('y', 3)])"
      ]
     },
     "execution_count": 45,
     "metadata": {},
     "output_type": "execute_result"
    }
   ],
   "source": [
    "od"
   ]
  },
  {
   "cell_type": "code",
   "execution_count": 46,
   "id": "49c87baa-b67f-48f0-81cf-04ba20bb3ab1",
   "metadata": {},
   "outputs": [
    {
     "data": {
      "text/plain": [
       "['z', 'x', 'y']"
      ]
     },
     "execution_count": 46,
     "metadata": {},
     "output_type": "execute_result"
    }
   ],
   "source": [
    "list(od.keys())"
   ]
  },
  {
   "cell_type": "code",
   "execution_count": 47,
   "id": "a5365cd6-e480-4790-aaa9-af93f7c316b2",
   "metadata": {},
   "outputs": [],
   "source": [
    "from collections import ChainMap"
   ]
  },
  {
   "cell_type": "code",
   "execution_count": 48,
   "id": "b72813a9-d156-454b-ae89-689a870648c2",
   "metadata": {},
   "outputs": [],
   "source": [
    "import os,argparse"
   ]
  },
  {
   "cell_type": "code",
   "execution_count": 60,
   "id": "55e46eb6-0993-43f6-b759-b77e28a58063",
   "metadata": {},
   "outputs": [],
   "source": [
    "from collections import Counter"
   ]
  },
  {
   "cell_type": "code",
   "execution_count": 68,
   "id": "ba7fd47c-07d7-4c1a-b2b3-a4ad4f875086",
   "metadata": {},
   "outputs": [],
   "source": [
    "c = Counter()"
   ]
  },
  {
   "cell_type": "code",
   "execution_count": 67,
   "id": "d96564b8-d467-4820-b60e-d9ee31f1d695",
   "metadata": {},
   "outputs": [
    {
     "data": {
      "text/plain": [
       "Counter({'r': 2, 'g': 2, 'm': 2, 'p': 1, 'o': 1, 'a': 1, 'i': 1, 'n': 1})"
      ]
     },
     "execution_count": 67,
     "metadata": {},
     "output_type": "execute_result"
    }
   ],
   "source": [
    "for i in 'programming':\n",
    "    c[i] = c[i]+1\n",
    "c"
   ]
  },
  {
   "cell_type": "code",
   "execution_count": 70,
   "id": "e4b4c63e-22ac-426f-8726-b0a9955580aa",
   "metadata": {},
   "outputs": [],
   "source": [
    "c.update('hello')"
   ]
  },
  {
   "cell_type": "code",
   "execution_count": 71,
   "id": "c973637f-40b2-4387-92eb-2e70993d0b88",
   "metadata": {},
   "outputs": [
    {
     "data": {
      "text/plain": [
       "Counter({'l': 2, 'h': 1, 'e': 1, 'o': 1})"
      ]
     },
     "execution_count": 71,
     "metadata": {},
     "output_type": "execute_result"
    }
   ],
   "source": [
    "c"
   ]
  },
  {
   "cell_type": "code",
   "execution_count": null,
   "id": "b4dd4484-c445-4cea-8dcb-174ff1bcc6e0",
   "metadata": {},
   "outputs": [],
   "source": []
  }
 ],
 "metadata": {
  "kernelspec": {
   "display_name": "Python 3 (ipykernel)",
   "language": "python",
   "name": "python3"
  },
  "language_info": {
   "codemirror_mode": {
    "name": "ipython",
    "version": 3
   },
   "file_extension": ".py",
   "mimetype": "text/x-python",
   "name": "python",
   "nbconvert_exporter": "python",
   "pygments_lexer": "ipython3",
   "version": "3.12.7"
  }
 },
 "nbformat": 4,
 "nbformat_minor": 5
}
