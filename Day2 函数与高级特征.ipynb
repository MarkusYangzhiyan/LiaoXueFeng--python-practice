{
 "cells": [
  {
   "cell_type": "code",
   "execution_count": 5,
   "id": "dd6acccd-430f-4874-b36e-1ca412548dce",
   "metadata": {},
   "outputs": [
    {
     "data": {
      "text/plain": [
       "'0xff'"
      ]
     },
     "execution_count": 5,
     "metadata": {},
     "output_type": "execute_result"
    }
   ],
   "source": [
    "hex(255)   # convert int into #16"
   ]
  },
  {
   "cell_type": "code",
   "execution_count": 24,
   "id": "85be70b1-f1bd-4bb6-8f39-9ddc590b5c9c",
   "metadata": {},
   "outputs": [
    {
     "data": {
      "text/plain": [
       "(-0.5, -1.0)"
      ]
     },
     "execution_count": 24,
     "metadata": {},
     "output_type": "execute_result"
    }
   ],
   "source": [
    "import math\n",
    "\n",
    "def quadratic(a,b,c):\n",
    "    if a == 0:\n",
    "        if b == 0:\n",
    "            raise ValueError(\"a 和 b 都为0，方程无法求解\")\n",
    "        else:\n",
    "            return -c/b\n",
    "\n",
    "    else:       \n",
    "        discriminant = b ** 2 - 4 * a * c\n",
    "        if discriminant < 0:\n",
    "            raise ValueError('方程无实数解')\n",
    "        elif discriminant == 0:\n",
    "            return  -b/(2 * a)\n",
    "        else:\n",
    "            sqrt_discriminant = math.sqrt(discriminant)\n",
    "            x1 = (-b + sqrt_discriminant) / (2  * a)\n",
    "            x2 = (-b - sqrt_discriminant) / (2  * a)\n",
    "            return (x1,x2)\n",
    "            \n",
    "if __name__ == \"__main__\":\n",
    "    res = quadratic(2,3,1)\n",
    "\n",
    "res"
   ]
  },
  {
   "cell_type": "code",
   "execution_count": 25,
   "id": "644147ff-063b-4803-aa42-143f4e51563b",
   "metadata": {},
   "outputs": [
    {
     "name": "stdout",
     "output_type": "stream",
     "text": [
      "quadratic(2, 3, 1) = (-0.5, -1.0)\n",
      "quadratic(1, 3, -4) = (1.0, -4.0)\n",
      "测试成功\n"
     ]
    }
   ],
   "source": [
    "# 测试:\n",
    "print('quadratic(2, 3, 1) =', quadratic(2, 3, 1))\n",
    "print('quadratic(1, 3, -4) =', quadratic(1, 3, -4))\n",
    "\n",
    "if quadratic(2, 3, 1) != (-0.5, -1.0):\n",
    "    print('测试失败')\n",
    "elif quadratic(1, 3, -4) != (1.0, -4.0):\n",
    "    print('测试失败')\n",
    "else:\n",
    "    print('测试成功')"
   ]
  },
  {
   "cell_type": "code",
   "execution_count": 40,
   "id": "6f4e6ad5-6fd2-436a-9dfc-52035b9adff9",
   "metadata": {},
   "outputs": [],
   "source": [
    "def mul(*x):\n",
    "    if len(x) == 0 or len(x) == 1:\n",
    "        raise ValueError('There must be 2 numbers for multiplication')\n",
    "    else:\n",
    "        res = 1\n",
    "        for i in x:\n",
    "            res = res * i\n",
    "    return res\n"
   ]
  },
  {
   "cell_type": "code",
   "execution_count": 44,
   "id": "32a42fe0-b294-4f5e-b73f-b3cbccb846b2",
   "metadata": {},
   "outputs": [],
   "source": [
    "def fact(n):\n",
    "    if n ==1:\n",
    "        return 1\n",
    "    else:\n",
    "        return n * fact(n-1)"
   ]
  },
  {
   "cell_type": "code",
   "execution_count": 45,
   "id": "232754c4-3418-4497-a49b-2998e0f16b06",
   "metadata": {},
   "outputs": [
    {
     "data": {
      "text/plain": [
       "1"
      ]
     },
     "execution_count": 45,
     "metadata": {},
     "output_type": "execute_result"
    }
   ],
   "source": [
    "fact(1)"
   ]
  },
  {
   "cell_type": "code",
   "execution_count": 47,
   "id": "75057a53-44dc-4236-b1c6-e2ce5e06f9b6",
   "metadata": {},
   "outputs": [
    {
     "data": {
      "text/plain": [
       "6"
      ]
     },
     "execution_count": 47,
     "metadata": {},
     "output_type": "execute_result"
    }
   ],
   "source": [
    "fact(3)"
   ]
  },
  {
   "cell_type": "code",
   "execution_count": 48,
   "id": "94a75faa-c6ad-42fb-82b4-ccf195a719fa",
   "metadata": {},
   "outputs": [
    {
     "data": {
      "text/plain": [
       "24"
      ]
     },
     "execution_count": 48,
     "metadata": {},
     "output_type": "execute_result"
    }
   ],
   "source": [
    "fact(4)"
   ]
  },
  {
   "cell_type": "code",
   "execution_count": 49,
   "id": "31abb189-6b17-406a-bbf8-ec08b642a8f3",
   "metadata": {},
   "outputs": [
    {
     "data": {
      "text/plain": [
       "120"
      ]
     },
     "execution_count": 49,
     "metadata": {},
     "output_type": "execute_result"
    }
   ],
   "source": [
    "fact(5)"
   ]
  },
  {
   "cell_type": "code",
   "execution_count": 50,
   "id": "86ca81a7-6cbf-4a6c-a75a-fe419fa087b1",
   "metadata": {},
   "outputs": [
    {
     "data": {
      "text/plain": [
       "93326215443944152681699238856266700490715968264381621468592963895217599993229915608941463976156518286253697920827223758251185210916864000000000000000000000000"
      ]
     },
     "execution_count": 50,
     "metadata": {},
     "output_type": "execute_result"
    }
   ],
   "source": [
    "fact(100)"
   ]
  },
  {
   "cell_type": "code",
   "execution_count": 58,
   "id": "b6438efb-14d5-4d8e-ba7e-917167cf9190",
   "metadata": {},
   "outputs": [],
   "source": [
    "def move(n,a,b,c):\n",
    "    if n ==1:\n",
    "        print(a,'-->',c)\n",
    "    else:\n",
    "        # A中n-1个移动到b\n",
    "        move(n-1,a,c,b)\n",
    "        # A中剩下的最后一个,也就是最大的圆盘移动到c\n",
    "        move(1,a,b,c)\n",
    "        # B中的所有圆盘也就是n-1个移动到c, 而过程是和之前的相同,所以用move(n-1,a,b,c)\n",
    "        move(n-1,b,a,c)"
   ]
  },
  {
   "cell_type": "code",
   "execution_count": 59,
   "id": "4790c13f-4c93-4569-b34d-28fd95e13a5c",
   "metadata": {},
   "outputs": [
    {
     "name": "stdout",
     "output_type": "stream",
     "text": [
      "a --> c\n"
     ]
    }
   ],
   "source": [
    "move(1,\"a\",\"b\",\"c\")"
   ]
  },
  {
   "cell_type": "code",
   "execution_count": 60,
   "id": "b514e577-f605-4062-9230-0b40dbd94e02",
   "metadata": {},
   "outputs": [
    {
     "name": "stdout",
     "output_type": "stream",
     "text": [
      "a --> c\n",
      "a --> b\n",
      "c --> b\n",
      "a --> c\n",
      "b --> a\n",
      "b --> c\n",
      "a --> c\n"
     ]
    }
   ],
   "source": [
    "move(3,\"a\",\"b\",\"c\")"
   ]
  },
  {
   "cell_type": "code",
   "execution_count": 64,
   "id": "49485f13-3ce6-461d-a5ab-3cda35cedc73",
   "metadata": {},
   "outputs": [
    {
     "name": "stdout",
     "output_type": "stream",
     "text": [
      "[1, 3, 5, 7, 9, 11, 13, 15, 17, 19, 21, 23, 25, 27, 29, 31, 33, 35, 37, 39, 41, 43, 45, 47, 49, 51, 53, 55, 57, 59, 61, 63, 65, 67, 69, 71, 73, 75, 77, 79, 81, 83, 85, 87, 89, 91, 93, 95, 97, 99]\n"
     ]
    }
   ],
   "source": [
    "L = []\n",
    "n = 1\n",
    "while n <= 99:\n",
    "    L.append(n)\n",
    "    n += 2\n",
    "print(L)"
   ]
  },
  {
   "cell_type": "code",
   "execution_count": 66,
   "id": "1c4ecd9f-5772-49bc-820d-3135f89e1766",
   "metadata": {},
   "outputs": [
    {
     "name": "stdout",
     "output_type": "stream",
     "text": [
      "[1, 3, 5, 7, 9, 11, 13, 15, 17, 19, 21, 23, 25, 27, 29, 31, 33, 35, 37, 39, 41, 43, 45, 47, 49, 51, 53, 55, 57, 59, 61, 63, 65, 67, 69, 71, 73, 75, 77, 79, 81, 83, 85, 87, 89, 91, 93, 95, 97, 99]\n"
     ]
    }
   ],
   "source": [
    "L = []\n",
    "for i in range(100):\n",
    "    if i % 2 == 0:\n",
    "        continue\n",
    "    L.append(i)\n",
    "print(L)"
   ]
  },
  {
   "cell_type": "code",
   "execution_count": 67,
   "id": "29d309ad-201a-45f3-ab19-754872c34fef",
   "metadata": {},
   "outputs": [],
   "source": [
    "l = ['Michael', 'Sarah', 'Tracy']"
   ]
  },
  {
   "cell_type": "code",
   "execution_count": 68,
   "id": "0d55d199-7fbb-4945-8024-70c026a74349",
   "metadata": {},
   "outputs": [
    {
     "data": {
      "text/plain": [
       "'Tracy'"
      ]
     },
     "execution_count": 68,
     "metadata": {},
     "output_type": "execute_result"
    }
   ],
   "source": [
    "l[-1]"
   ]
  },
  {
   "cell_type": "code",
   "execution_count": 69,
   "id": "e13e555c-9da3-4cc8-92c3-4eb5f4f5ace9",
   "metadata": {},
   "outputs": [
    {
     "data": {
      "text/plain": [
       "['Sarah']"
      ]
     },
     "execution_count": 69,
     "metadata": {},
     "output_type": "execute_result"
    }
   ],
   "source": [
    "l[-2:-1]"
   ]
  },
  {
   "cell_type": "code",
   "execution_count": 70,
   "id": "306fbe74-5752-4a11-9517-03c026c712ee",
   "metadata": {},
   "outputs": [
    {
     "data": {
      "text/plain": [
       "['Sarah', 'Tracy']"
      ]
     },
     "execution_count": 70,
     "metadata": {},
     "output_type": "execute_result"
    }
   ],
   "source": [
    "l[-2:]"
   ]
  },
  {
   "cell_type": "code",
   "execution_count": 73,
   "id": "88b1874d-be86-40ea-a815-68dbdf29f76e",
   "metadata": {},
   "outputs": [],
   "source": [
    "l = list(range(100))"
   ]
  },
  {
   "cell_type": "code",
   "execution_count": 74,
   "id": "22c72b96-9b03-4c5e-a6ab-a28db5aca84d",
   "metadata": {},
   "outputs": [
    {
     "data": {
      "text/plain": [
       "[0, 2, 4, 6, 8]"
      ]
     },
     "execution_count": 74,
     "metadata": {},
     "output_type": "execute_result"
    }
   ],
   "source": [
    "l[:10:2]"
   ]
  },
  {
   "cell_type": "code",
   "execution_count": 75,
   "id": "2abaeb34-a3a8-46c2-a9a6-543d3e08bb7c",
   "metadata": {},
   "outputs": [
    {
     "data": {
      "text/plain": [
       "[0, 5, 10, 15, 20, 25, 30, 35, 40, 45, 50, 55, 60, 65, 70, 75, 80, 85, 90, 95]"
      ]
     },
     "execution_count": 75,
     "metadata": {},
     "output_type": "execute_result"
    }
   ],
   "source": [
    "l[::5]"
   ]
  },
  {
   "cell_type": "code",
   "execution_count": 86,
   "id": "99c6a63d-926e-4d37-92f7-b7185619b308",
   "metadata": {},
   "outputs": [],
   "source": [
    "def trim(s):\n",
    "    while s[0] == \" \":\n",
    "        s = s[1:]\n",
    "    while s[-1] == \" \":\n",
    "        s = s[:-2]\n",
    "    return s"
   ]
  },
  {
   "cell_type": "code",
   "execution_count": 87,
   "id": "8d9249f8-753d-4e23-823e-196a923279b4",
   "metadata": {},
   "outputs": [
    {
     "data": {
      "text/plain": [
       "'i love my baby girl'"
      ]
     },
     "execution_count": 87,
     "metadata": {},
     "output_type": "execute_result"
    }
   ],
   "source": [
    "trim(\" i love my baby girl  \")"
   ]
  },
  {
   "cell_type": "code",
   "execution_count": 90,
   "id": "419e367a-94f8-49b4-8412-aaa7f82921a6",
   "metadata": {},
   "outputs": [
    {
     "data": {
      "text/plain": [
       "'i love my baby girl'"
      ]
     },
     "execution_count": 90,
     "metadata": {},
     "output_type": "execute_result"
    }
   ],
   "source": [
    "trim(\"     i love my baby girl    \")"
   ]
  },
  {
   "cell_type": "code",
   "execution_count": 119,
   "id": "3dd04e4e-e930-43ec-931e-8b2d123f4ac1",
   "metadata": {},
   "outputs": [],
   "source": [
    "def findMinAndMax(l):\n",
    "    if len(l) == 0:\n",
    "        return (None,None)\n",
    "    else:\n",
    "        x = min(l)\n",
    "        y = max(l)\n",
    "    return (x,y)"
   ]
  },
  {
   "cell_type": "code",
   "execution_count": 121,
   "id": "8f2ebab1-6e24-450c-a8ab-7cf17bf9a954",
   "metadata": {
    "scrolled": true
   },
   "outputs": [
    {
     "name": "stdout",
     "output_type": "stream",
     "text": [
      "测试成功!\n"
     ]
    }
   ],
   "source": [
    "if findMinAndMax([]) != (None, None):\n",
    "    print('测试失败!')\n",
    "elif findMinAndMax([7]) != (7, 7):\n",
    "    print('测试失败!')\n",
    "elif findMinAndMax([7, 1]) != (1, 7):\n",
    "    print('测试失败!')\n",
    "elif findMinAndMax([7, 1, 3, 9, 5]) != (1, 9):\n",
    "    print('测试失败!')\n",
    "else:\n",
    "    print('测试成功!')"
   ]
  },
  {
   "cell_type": "code",
   "execution_count": 125,
   "id": "fb98c137-efd7-4453-b1f0-fe2830726e6d",
   "metadata": {},
   "outputs": [
    {
     "data": {
      "text/plain": [
       "[1, 4, 9, 16, 25, 36, 49, 64, 81]"
      ]
     },
     "execution_count": 125,
     "metadata": {},
     "output_type": "execute_result"
    }
   ],
   "source": [
    "[x * x for x in range(1,10)]"
   ]
  },
  {
   "cell_type": "code",
   "execution_count": 126,
   "id": "b24c8971-c8cf-4f3a-ab9a-b50a639b663b",
   "metadata": {},
   "outputs": [
    {
     "data": {
      "text/plain": [
       "[4, 16, 36, 64]"
      ]
     },
     "execution_count": 126,
     "metadata": {},
     "output_type": "execute_result"
    }
   ],
   "source": [
    "[x * x for x in range(1,10) if x % 2 == 0]"
   ]
  },
  {
   "cell_type": "code",
   "execution_count": 127,
   "id": "adc7ab50-e0ad-4c04-8c41-5da15daf0af5",
   "metadata": {},
   "outputs": [
    {
     "data": {
      "text/plain": [
       "['Aa', 'Ab', 'Ac', 'Ba', 'Bb', 'Bc', 'Ca', 'Cb', 'Cc']"
      ]
     },
     "execution_count": 127,
     "metadata": {},
     "output_type": "execute_result"
    }
   ],
   "source": [
    "[m+n for m in \"ABC\" for n in \"abc\"]"
   ]
  },
  {
   "cell_type": "code",
   "execution_count": 128,
   "id": "04a62289-6be4-46c9-9a1b-77b8844ee99c",
   "metadata": {},
   "outputs": [],
   "source": [
    "import os"
   ]
  },
  {
   "cell_type": "code",
   "execution_count": 129,
   "id": "22f12ef1-f660-44d2-a839-50183409778f",
   "metadata": {
    "collapsed": true,
    "jupyter": {
     "outputs_hidden": true
    }
   },
   "outputs": [
    {
     "data": {
      "text/plain": [
       "['.anaconda',\n",
       " '.conda',\n",
       " '.condarc',\n",
       " '.continuum',\n",
       " '.douyu_channel',\n",
       " '.ipynb_checkpoints',\n",
       " '.ipython',\n",
       " '.jupyter',\n",
       " '.keras',\n",
       " '.matplotlib',\n",
       " '.virtual_documents',\n",
       " '.vscode',\n",
       " 'AppData',\n",
       " 'Application Data',\n",
       " 'BADS',\n",
       " 'Contacts',\n",
       " 'Cookies',\n",
       " 'Day1 python基础.ipynb',\n",
       " 'Day2 函数与高级特征.ipynb',\n",
       " 'Desktop',\n",
       " 'Documents',\n",
       " 'Downloads',\n",
       " 'Favorites',\n",
       " 'kaggle compitition',\n",
       " 'Links',\n",
       " 'Local Settings',\n",
       " 'Music',\n",
       " 'My Documents',\n",
       " 'NetHood',\n",
       " 'NTUSER.DAT',\n",
       " 'ntuser.dat.LOG1',\n",
       " 'ntuser.dat.LOG2',\n",
       " 'NTUSER.DAT{3161c7ac-88bc-11ef-b8c2-e9c53f1ba6b9}.TM.blf',\n",
       " 'NTUSER.DAT{3161c7ac-88bc-11ef-b8c2-e9c53f1ba6b9}.TMContainer00000000000000000001.regtrans-ms',\n",
       " 'NTUSER.DAT{3161c7ac-88bc-11ef-b8c2-e9c53f1ba6b9}.TMContainer00000000000000000002.regtrans-ms',\n",
       " 'ntuser.ini',\n",
       " 'OneDrive',\n",
       " 'Pictures',\n",
       " 'PrintHood',\n",
       " 'Python for Data Analysis',\n",
       " 'Recent',\n",
       " 'Saved Games',\n",
       " 'Searches',\n",
       " 'SendTo',\n",
       " 'Templates',\n",
       " 'Untitled Folder',\n",
       " 'V1 Machine Learning',\n",
       " 'Videos',\n",
       " 'WPS Cloud Files',\n",
       " 'WPSDrive',\n",
       " '「开始」菜单',\n",
       " '量化交易教程',\n",
       " '量化投资：以python为工具']"
      ]
     },
     "execution_count": 129,
     "metadata": {},
     "output_type": "execute_result"
    }
   ],
   "source": [
    "[d for d in os.listdir(\".\")]"
   ]
  },
  {
   "cell_type": "code",
   "execution_count": 144,
   "id": "2ca67f0a-59c0-4824-98af-57b08939c183",
   "metadata": {},
   "outputs": [],
   "source": [
    "La = ['Hello', 'World', 18, 'Apple', None]\n",
    "Lb = [x.lower() for x in L1 if type(x) == str ]"
   ]
  },
  {
   "cell_type": "code",
   "execution_count": 145,
   "id": "9befbd98-a782-4f54-a5f0-9583d1dcd227",
   "metadata": {},
   "outputs": [
    {
     "name": "stdout",
     "output_type": "stream",
     "text": [
      "['hello', 'world', 'apple']\n",
      "测试通过!\n"
     ]
    }
   ],
   "source": [
    "# 测试:\n",
    "print(Lb)\n",
    "if Lb == ['hello', 'world', 'apple']:\n",
    "    print('测试通过!')\n",
    "else:\n",
    "    print('测试失败!')"
   ]
  },
  {
   "cell_type": "code",
   "execution_count": 148,
   "id": "5b2076f5-7217-4584-9f67-7f564513fef8",
   "metadata": {},
   "outputs": [],
   "source": [
    "def fib(max):\n",
    "    n,a,b = 0,0,1\n",
    "    while n < max:\n",
    "        print(b)\n",
    "        a,b = b, a+b\n",
    "        n += 1\n",
    "    return 'done'"
   ]
  },
  {
   "cell_type": "code",
   "execution_count": 149,
   "id": "678dd378-4e5b-46d7-872a-634bba90c7a8",
   "metadata": {},
   "outputs": [
    {
     "name": "stdout",
     "output_type": "stream",
     "text": [
      "1\n",
      "1\n",
      "2\n",
      "3\n",
      "5\n",
      "8\n"
     ]
    },
    {
     "data": {
      "text/plain": [
       "'done'"
      ]
     },
     "execution_count": 149,
     "metadata": {},
     "output_type": "execute_result"
    }
   ],
   "source": [
    "fib(6)"
   ]
  },
  {
   "cell_type": "code",
   "execution_count": 150,
   "id": "e1c96ce6-392e-47f5-9929-4d92e96808fc",
   "metadata": {},
   "outputs": [],
   "source": [
    "def fib(max):\n",
    "    n,a,b = 0,0,1\n",
    "    while n < max:\n",
    "        yield b\n",
    "        a,b = b, a+b\n",
    "        n += 1\n",
    "    return 'done'"
   ]
  },
  {
   "cell_type": "code",
   "execution_count": 156,
   "id": "8f5fdd88-4f05-4d60-a203-bdcbd8538122",
   "metadata": {},
   "outputs": [
    {
     "data": {
      "text/plain": [
       "[1, 1, 2, 3, 5, 8, 13, 21, 34, 55]"
      ]
     },
     "execution_count": 156,
     "metadata": {},
     "output_type": "execute_result"
    }
   ],
   "source": [
    "[i for i in fib(10)]"
   ]
  },
  {
   "cell_type": "code",
   "execution_count": 157,
   "id": "ad2a8b91-0552-43ea-8c77-f60758e3d04e",
   "metadata": {},
   "outputs": [
    {
     "name": "stdout",
     "output_type": "stream",
     "text": [
      "g: 1\n",
      "g: 1\n",
      "g: 2\n",
      "g: 3\n",
      "g: 5\n",
      "g: 8\n",
      "g: 13\n",
      "g: 21\n",
      "g: 34\n",
      "g: 55\n",
      "generator return value: done\n"
     ]
    }
   ],
   "source": [
    "g = fib(10)\n",
    "while True:\n",
    "    try:\n",
    "        x = next(g)\n",
    "        print(\"g:\",x)\n",
    "    except StopIteration as e:\n",
    "        print('generator return value:',e.value)\n",
    "        break\n",
    "    "
   ]
  },
  {
   "cell_type": "code",
   "execution_count": 177,
   "id": "c4e44e88-223e-4380-8bf5-ba13bf5103a2",
   "metadata": {},
   "outputs": [
    {
     "name": "stdout",
     "output_type": "stream",
     "text": [
      "[1]\n",
      "[1, 1]\n",
      "[1, 2, 1]\n",
      "[1, 3, 3, 1]\n",
      "[1, 4, 6, 4, 1]\n",
      "[1, 5, 10, 10, 5, 1]\n",
      "[1, 6, 15, 20, 15, 6, 1]\n",
      "[1, 7, 21, 35, 35, 21, 7, 1]\n",
      "[1, 8, 28, 56, 70, 56, 28, 8, 1]\n",
      "[1, 9, 36, 84, 126, 126, 84, 36, 9, 1]\n"
     ]
    }
   ],
   "source": [
    "def triangles():\n",
    "    row = [1]                   \n",
    "    while True:                \n",
    "        yield row               \n",
    "        new_row = [1] + [row[i] + row[i+1] for i in range(len(row) - 1)] + [1]\n",
    "        row = new_row\n",
    "g = triangles()                 \n",
    "for x in range(10):            \n",
    "    print(next(g))"
   ]
  },
  {
   "cell_type": "code",
   "execution_count": 178,
   "id": "ca4c9a56-0473-445a-8990-bb2c3f3383ab",
   "metadata": {},
   "outputs": [],
   "source": [
    "def triangles():\n",
    "    row = [1]             # def the first row of our triangle\n",
    "    while True:           # infinitely loop\n",
    "        yield row          # 循环的暂停处,也就是说第二次循环的时候,不执行row = [1],而是上一个循环中row = new_row的值\n",
    "        new_row = [1]       # create the next row\n",
    "        for i in range(len(row) -1):         # if range(0), the loop will not run\n",
    "            new_row.append(row[i]+row[i+1])\n",
    "        new_row.append(1)\n",
    "        row = new_row            # update row of next loop\n"
   ]
  },
  {
   "cell_type": "code",
   "execution_count": 179,
   "id": "ff3ecb0b-0400-4984-afdc-f175096b760c",
   "metadata": {},
   "outputs": [
    {
     "name": "stdout",
     "output_type": "stream",
     "text": [
      "[1]\n",
      "[1, 1]\n",
      "[1, 2, 1]\n",
      "[1, 3, 3, 1]\n",
      "[1, 4, 6, 4, 1]\n",
      "[1, 5, 10, 10, 5, 1]\n",
      "[1, 6, 15, 20, 15, 6, 1]\n",
      "[1, 7, 21, 35, 35, 21, 7, 1]\n",
      "[1, 8, 28, 56, 70, 56, 28, 8, 1]\n",
      "[1, 9, 36, 84, 126, 126, 84, 36, 9, 1]\n"
     ]
    }
   ],
   "source": [
    "h = triangles()                # create a generator \n",
    "for i in range(10):             # run next(g) for 10 times\n",
    "    print(next(h))"
   ]
  },
  {
   "cell_type": "code",
   "execution_count": null,
   "id": "edc96024-e8af-4f99-b820-8ea7dae7cbb2",
   "metadata": {},
   "outputs": [],
   "source": []
  },
  {
   "cell_type": "code",
   "execution_count": null,
   "id": "6c7f87f1-5d6b-4fdb-9849-0e201799badc",
   "metadata": {},
   "outputs": [],
   "source": []
  },
  {
   "cell_type": "code",
   "execution_count": null,
   "id": "6701e4fe-cada-42ec-9bfa-ca2ad3440852",
   "metadata": {},
   "outputs": [],
   "source": []
  },
  {
   "cell_type": "code",
   "execution_count": null,
   "id": "19bd978c-4ed9-4ee1-8070-56e141f1ec28",
   "metadata": {},
   "outputs": [],
   "source": []
  },
  {
   "cell_type": "code",
   "execution_count": null,
   "id": "9c3593d6-059d-44ed-92e1-136a824b673b",
   "metadata": {},
   "outputs": [],
   "source": []
  },
  {
   "cell_type": "code",
   "execution_count": null,
   "id": "0610ede6-8998-4544-bafc-dbf8a27f4ef5",
   "metadata": {},
   "outputs": [],
   "source": []
  }
 ],
 "metadata": {
  "kernelspec": {
   "display_name": "Python 3 (ipykernel)",
   "language": "python",
   "name": "python3"
  },
  "language_info": {
   "codemirror_mode": {
    "name": "ipython",
    "version": 3
   },
   "file_extension": ".py",
   "mimetype": "text/x-python",
   "name": "python",
   "nbconvert_exporter": "python",
   "pygments_lexer": "ipython3",
   "version": "3.12.7"
  }
 },
 "nbformat": 4,
 "nbformat_minor": 5
}
